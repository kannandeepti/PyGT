{
 "cells": [
  {
   "cell_type": "code",
   "execution_count": 1,
   "metadata": {},
   "outputs": [],
   "source": [
    "import numpy as np\n",
    "import time,os\n",
    "np.set_printoptions(linewidth=160)\n",
    "from lib.ktn_io import *\n",
    "from lib.gt_tools import *\n",
    "from scipy.sparse import save_npz,load_npz, diags, eye\n",
    "from scipy.sparse.linalg import eigs,inv,spsolve\n",
    "import scipy as sp\n",
    "import scipy.linalg as spla\n",
    "import matplotlib.pyplot as plt\n",
    "from matplotlib.colors import LogNorm"
   ]
  },
  {
   "cell_type": "code",
   "execution_count": 24,
   "metadata": {},
   "outputs": [],
   "source": [
    "\n",
    "# Do we force the generation of the KTN from data, or see if it is in the \"cache\" \n",
    "generate = True\n",
    "\n",
    "# Do we try a brute solve?\n",
    "brute = True\n",
    "\n",
    "# inverse temperature\n",
    "beta = 8.0\n",
    "\n"
   ]
  },
  {
   "cell_type": "markdown",
   "metadata": {},
   "source": [
    "# Load Data"
   ]
  },
  {
   "cell_type": "code",
   "execution_count": 25,
   "metadata": {},
   "outputs": [
    {
     "name": "stdout",
     "output_type": "stream",
     "text": [
      "Generating....\n",
      "\n",
      "\t5 INITIAL STATES -> 395 FINAL STATES\n",
      "\n",
      "\n",
      "\tbeta: 8.0  N: 5308 \n",
      "\n",
      "\n"
     ]
    }
   ],
   "source": [
    "Emax = None#-167.5\n",
    "\n",
    "data_path = \"KTN_data/LJ38/\"\n",
    "\n",
    "beta, B, K, D, N, u, s, kt, kcon, Emin = load_save_mat(path=data_path,beta=beta,Emax=Emax,Nmax=7000,generate=generate)\n",
    "\n",
    "f = u-s/beta\n",
    "\n",
    "\"\"\"\n",
    "rm_reg = (np.arange(N)==D.diagonal().argmax())\n",
    "B, D, N, retry = gt_seq(N=N,rm_reg=rm_reg,B=B,D=D.data,trmb=1)\n",
    "K=B.dot(diags(D))\n",
    "f = u[~rm_reg] - s[~rm_reg]/beta\n",
    "\"\"\"\n",
    "\n",
    "\n",
    "\"\"\"\n",
    "Boolean vectors selecting A and/or B regions\n",
    "\"\"\"\n",
    "initial_states, final_states = np.zeros(N,bool), np.zeros(N,bool)\n",
    "initial_states[np.loadtxt(os.path.join(data_path,'min_oct')).astype(int)-1] = True\n",
    "final_states[np.loadtxt(os.path.join(data_path,'min_ico')).astype(int)-1] = True\n",
    "\n",
    "basins = initial_states + final_states\n",
    "inter_region = ~basins\n",
    "\n",
    "rho_A, rho_B = np.zeros(N), np.zeros(N)\n",
    "\n",
    "rho_B[initial_states] = np.exp(-(f[initial_states]-f[initial_states].min())*beta)\n",
    "rho_B = rho_B[~final_states]\n",
    "rho_B /= rho_B.sum()\n",
    "\n",
    "rho_A[final_states] = np.exp(-(f[final_states]-f[final_states].min())*beta)\n",
    "rho_A = rho_A[~initial_states]\n",
    "rho_A /= rho_A.sum()\n",
    "\n",
    "print(\"\\n\\t%d INITIAL STATES -> %d FINAL STATES\\n\" % (initial_states.sum(),final_states.sum()))\n",
    "\n",
    "print(\"\\n\\tbeta:\",beta,\" N:\",N,\"\\n\\n\")"
   ]
  },
  {
   "cell_type": "markdown",
   "metadata": {},
   "source": [
    "# graph transformation"
   ]
  },
  {
   "cell_type": "code",
   "execution_count": 26,
   "metadata": {},
   "outputs": [
    {
     "name": "stderr",
     "output_type": "stream",
     "text": [
      "                                                     \r"
     ]
    },
    {
     "name": "stdout",
     "output_type": "stream",
     "text": [
      "(400,) 400\n"
     ]
    }
   ],
   "source": [
    "f_inter_region = inter_region.copy()\n",
    "\n",
    "trmb = 50\n",
    "\n",
    "rB, rD, rN, retry = gt_seq(N=N,rm_reg=inter_region,B=B,D=D.data,trmb=trmb)\n",
    "\n",
    "r_initial_states = initial_states[~inter_region]\n",
    "r_final_states = final_states[~inter_region]\n",
    "r_basins = r_final_states + r_initial_states\n",
    "\n",
    "print(r_basins.shape,r_basins.sum())"
   ]
  },
  {
   "cell_type": "markdown",
   "metadata": {},
   "source": [
    "# eigendecomposition of GT matrix "
   ]
  },
  {
   "cell_type": "code",
   "execution_count": 35,
   "metadata": {},
   "outputs": [
    {
     "data": {
      "image/png": "[encoded data removed]",
      "text/plain": [
       "<Figure size 432x288 with 1 Axes>"
      ]
     },
     "metadata": {
      "needs_background": "light"
     },
     "output_type": "display_data"
    },
    {
     "name": "stdout",
     "output_type": "stream",
     "text": [
      "\n",
      "\t  GAP  :  215819438532.69067\n",
      "\n",
      "\t  nu_0 : 2.2900427697363575e-23\n",
      "\n",
      "\t k_qsd = C_AB.rD.qsd :  2.333743368223295e-23  % Error: -1.872553729856219 \n",
      "\n",
      "\n",
      "\t1.K.qsd: 2.3337449255115328e-23  % Error: -1.8726192094706384 \n",
      "\n",
      "\n"
     ]
    }
   ],
   "source": [
    "rK = diags(rD)-rB.dot(diags(rD))\n",
    "\n",
    "K_AB = rK[initial_states,:][:,initial_states]\n",
    "\n",
    "C_AB = np.ravel(rB[r_final_states,:][:,r_initial_states].sum(axis=0))\n",
    "\n",
    "C_AB_rD = np.ravel(C_AB.dot(diags(rD[r_initial_states]).todense()))\n",
    "\n",
    "l_AB, w_AB, v_AB = spla.eig(K_AB.todense(),left=True,right=True)\n",
    "\n",
    "\n",
    "qsdo = np.abs(l_AB.real).argsort()\n",
    "\n",
    "nu = l_AB.real[qsdo]\n",
    "\n",
    "\n",
    "qsd = v_AB[:,qsdo[0]]\n",
    "qsd /= qsd.sum()\n",
    "\n",
    "rho = np.exp(-(f[initial_states]-f[initial_states].min())*beta)\n",
    "rho /= rho.sum()\n",
    "\n",
    "#aqsd = v_AB[:,qsdo[0]] / v_AB[:,qsdo[0]].sum()\n",
    "\n",
    "plt.title(\"Eigenvalues of GT matrix\")\n",
    "plt.semilogy(np.arange(nu.size),nu,'o')\n",
    "plt.show()"
   ]
  },
  {
   "cell_type": "markdown",
   "metadata": {},
   "source": [
    "### Check for numerical consistency\n",
    "\n",
    "We can show analytically that  $\\nu_0 \\equiv {\\bf 1}_\\mathcal{B}\\,\n",
    "[{\\bf G}^\\mathcal{I}_\\mathcal{B}]^{-1}\\,\n",
    "\\,{\\bf D}^\\mathcal{I}_\\mathcal{B}\\,\\hat{\\pi}^{QSD}_\\mathcal{B^I}$ = \"1.K.qsd\"\n",
    "\n",
    "and also $\\nu_0 \\equiv {\\bf C}^\\mathcal{A}_\\mathcal{B}\\, {\\bf D}^\\mathcal{I}_\\mathcal{B}\\, \\hat{\\pi}^{QSD}_\\mathcal{B^I}$    =   \"k_qsd\"\n",
    "\n",
    "I assume $\\nu_0$ is the least reliable but I use it as reference"
   ]
  },
  {
   "cell_type": "code",
   "execution_count": 38,
   "metadata": {},
   "outputs": [
    {
     "name": "stdout",
     "output_type": "stream",
     "text": [
      "\n",
      "\t  nu_0 : 2.2900427697363575e-23\n",
      "\n",
      "\t k_qsd = C_AB.rD.qsd :  2.333743368223295e-23  % Error: -1.872553729856219 \n",
      "\n",
      "\n",
      "\t1.K.qsd: 2.3337449255115328e-23  % Error: -1.8726192094706384 \n",
      "\n",
      "\n"
     ]
    }
   ],
   "source": [
    "\n",
    "print(\"\\n\\t  nu_0 :\",nu[0])\n",
    "\n",
    "print(\"\\n\\t k_qsd = C_AB.rD.qsd : \", C_AB_rD.dot(qsd),\" % Error:\",(nu[0]/C_AB_rD.dot(qsd)-1.0)*100.0,\"\\n\")\n",
    "\n",
    "print(\"\\n\\t1.K.qsd:\",K_AB.todense().dot(qsd).sum(),\" % Error:\",(nu[0]/K_AB.todense().dot(qsd).sum()-1.0)*100.0,\"\\n\\n\")\n"
   ]
  },
  {
   "cell_type": "markdown",
   "metadata": {},
   "source": [
    "# Transition rates and expected first passage times"
   ]
  },
  {
   "cell_type": "code",
   "execution_count": 46,
   "metadata": {},
   "outputs": [
    {
     "name": "stdout",
     "output_type": "stream",
     "text": [
      "\n",
      "\t    ---- times ----   \n",
      "\n",
      "\t tau_AB : 4.28497e+22 \n",
      "\n",
      "\t 1/nu_0 : 4.36673e+22 ( -1.87247% )\n",
      "\n",
      "\t tau_QSD: 4.28497e+22 ( 7.77156e-13% )\n",
      "\n",
      "\t1/k_QSD : 4.28496e+22 ( 8.72022e-05% )\n",
      "\n",
      "\t    ---- rates ----   \n",
      "\n",
      "\t  k_qsd  : 2.33374e-23\n",
      "\n",
      "\t1/tau_AB: 2.33374e-23 ( 8.72021e-05% )\n",
      "\n",
      "\t  k_SS  : 2.33385e-23 ( 0.00451283% )\n",
      "\n",
      "\t  k_NSS : 2.22325e-23 ( 4.73478% )\n",
      "\n",
      "\t  nu_0 : 2.29004e-23 ( 1.87255% )\n",
      "\n",
      "\t   k_F  : 2.33374e-23 ( 8.72021e-05% )\n",
      "\n"
     ]
    }
   ],
   "source": [
    "C_AB_D = np.ravel(C_AB.dot(D[initial_states,:][:,initial_states].todense()))\n",
    "\n",
    "kqsd = C_AB_rD.dot(qsd)\n",
    "\n",
    "iK_AB = spla.inv(K_AB.todense())\n",
    "\n",
    "trho = iK_AB.dot(rho).sum(axis=0)\n",
    "tqsd = iK_AB.dot(qsd).sum(axis=0)\n",
    "\n",
    "T_AB = iK_AB.sum(axis=0)\n",
    "\n",
    "\n",
    "k_F = (rho/T_AB).sum()\n",
    "\n",
    "#kqsd = k_F\n",
    "\n",
    "\n",
    "print(\n",
    "    \"\\n\\t    ---- times ----   \\n\" \\\n",
    "    +\n",
    "    \"\\n\\t tau_AB : %3.6g \\n\" % (trho) \\\n",
    "    +\n",
    "    \"\\n\\t 1/nu_0 : %3.6g ( %3.6g%% )\\n\" % (1.0/nu[0],(trho*nu[0]-1.0)*100.0) \\\n",
    "    +\n",
    "    \"\\n\\t tau_QSD: %3.6g ( %3.6g%% )\\n\" % (tqsd,(trho/tqsd-1.0)*100.0) \\\n",
    "    +\n",
    "    \"\\n\\t1/k_QSD : %3.6g ( %3.6g%% )\\n\" % (1.0/C_AB_rD.dot(qsd),(trho*C_AB_rD.dot(qsd)-1.0)*100.0)\n",
    "    +\n",
    "    \"\\n\\t    ---- rates ----   \\n\" \\\n",
    "    +\n",
    "    \"\\n\\t  k_qsd  : %3.6g\\n\" % kqsd \\\n",
    "    +\n",
    "    \"\\n\\t1/tau_AB: %3.6g ( %3.6g%% )\\n\" % (1.0/trho,np.abs(1.0/trho/kqsd-1.0)*100.0) \\\n",
    "    +\n",
    "    \"\\n\\t  k_SS  : %3.6g ( %3.6g%% )\\n\" % (C_AB_D.dot(rho),np.abs(C_AB_D.dot(rho)/kqsd-1.0)*100.0) \\\n",
    "    +\n",
    "    \"\\n\\t  k_NSS : %3.6g ( %3.6g%% )\\n\" % (C_AB_rD.dot(rho),np.abs(C_AB_rD.dot(rho)/kqsd-1.0)*100.0) \\\n",
    "    +\n",
    "    \"\\n\\t  nu_0 : %3.6g ( %3.6g%% )\\n\" % (nu[0],np.abs(nu[0]/kqsd-1.0)*100.0) \\\n",
    "    +\n",
    "    \"\\n\\t   k_F  : %3.6g ( %3.6g%% )\\n\" % (k_F,np.abs(k_F/kqsd-1.0)*100.0) \\\n",
    ")\n",
    "\n",
    "\n"
   ]
  }
 ],
 "metadata": {
  "kernelspec": {
   "display_name": "Python 3",
   "language": "python",
   "name": "python3"
  },
  "language_info": {
   "codemirror_mode": {
    "name": "ipython",
    "version": 3
   },
   "file_extension": ".py",
   "mimetype": "text/x-python",
   "name": "python",
   "nbconvert_exporter": "python",
   "pygments_lexer": "ipython3",
   "version": "3.7.2"
  }
 },
 "nbformat": 4,
 "nbformat_minor": 2
}
