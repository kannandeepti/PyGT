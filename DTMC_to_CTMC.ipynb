{
 "cells": [
  {
   "cell_type": "markdown",
   "metadata": {},
   "source": [
    "# DTMC/CTMC consistency\n",
    "\n",
    "Using the 11-state Weiss chain, we (1) converted a CTMC to a DTMC via matrix exponential and confirmed that the inter-microstate MFPTs are identical in both cases, and (2) converted a DTMC to a CTMC via Eq. 11 of JCP-KSSW-2020 and computed the MFPTs on the resulting CTMC and found that it matches the MFPTs from the original CTMC."
   ]
  },
  {
   "cell_type": "code",
   "execution_count": 2,
   "metadata": {},
   "outputs": [],
   "source": [
    "import PyGT\n",
    "\n",
    "import numpy as np\n",
    "from numpy.linalg import inv\n",
    "import scipy \n",
    "import scipy.linalg as spla \n",
    "from scipy.sparse.linalg import eigs\n",
    "from scipy.sparse import csr_matrix\n",
    "from scipy.linalg import eig\n",
    "from scipy.linalg import expm\n",
    "from pathlib import Path\n",
    "import pandas as pd\n",
    "from matplotlib import pyplot as plt\n",
    "from scipy.interpolate import CubicSpline\n",
    "import seaborn as sns\n",
    "sns.set()"
   ]
  },
  {
   "cell_type": "markdown",
   "metadata": {},
   "source": [
    "# Weiss chain calculations"
   ]
  },
  {
   "cell_type": "code",
   "execution_count": 3,
   "metadata": {},
   "outputs": [],
   "source": [
    "#Weiss chain\n",
    "path = Path('KTN_data/chain')\n",
    "mindata = np.loadtxt(path/'min.data')\n",
    "tsdata = np.loadtxt(path/'ts.data')\n",
    "\n",
    "nmin = mindata.shape[0]\n",
    "emin = mindata[:,0]\n",
    "fvibmin = mindata[:, 1]\n",
    "hordermin = mindata[:, 2]\n",
    "\n",
    "ets = np.zeros((nmin, nmin))\n",
    "fvibts = np.zeros((nmin, nmin))\n",
    "horderts = np.ones((nmin, nmin))\n",
    "exist = np.zeros((nmin, nmin))\n",
    "\n",
    "for i in range(tsdata.shape[0]):\n",
    "    j1 = int(tsdata[i, 3]) - 1\n",
    "    j2 = int(tsdata[i, 4]) - 1\n",
    "    exist[j1, j2] = 1\n",
    "    exist[j2, j1] = 1\n",
    "    ets[j1, j2] = tsdata[i, 0]\n",
    "    ets[j2, j1] = tsdata[i, 0]\n",
    "    fvibts[j1, j2] = tsdata[i, 1]\n",
    "    fvibts[j2, j1] = tsdata[i, 1]\n",
    "    horderts[j1, j2] = tsdata[i, 2]\n",
    "    horderts[j2, j1] = tsdata[i, 2]\n",
    "\n",
    "def Kmat(temp):\n",
    "    \"\"\"Return a rate matrix, nmin x nmin for specified temperature.\"\"\"\n",
    "    K = np.zeros((nmin, nmin), dtype=np.longdouble)\n",
    "    for j in range(nmin):\n",
    "        vib = np.exp((fvibmin - fvibts[:,j])/2).astype(np.longdouble)\n",
    "        order = hordermin/(2*np.pi*horderts[:,j])\n",
    "        nrg = np.exp(-(ets[:,j] - emin)/temp).astype(np.longdouble)\n",
    "        K[:, j] = exist[:, j]*vib*order*nrg\n",
    "\n",
    "    K = K.T\n",
    "    for i in range(nmin):\n",
    "        K[i, i] = -np.sum(K[:,i])\n",
    "    #return transpose since ts.data assumes i->j and we want i<-j\n",
    "    return K\n",
    "\n",
    "def peq(temp):\n",
    "    \"\"\"Return equilibrium probabilities for specified temperature.\"\"\"\n",
    "    zvec = np.exp(-fvibmin/2)*np.exp(-emin/temp)/hordermin\n",
    "    zvec = zvec.astype(np.longdouble)\n",
    "    return zvec/np.sum(zvec)\n",
    "\n",
    "def weiss(temp):\n",
    "    \"\"\"Return the matrix of mean first passage times using the recursive\n",
    "    formulae in Weiss (1967) Adv. Chem. Phys. 13, 1-18.\"\"\"\n",
    "    K = Kmat(temp)\n",
    "    def eta(j):\n",
    "        if j == 0:\n",
    "            return 0\n",
    "        else:\n",
    "            return (K[j, j-1]*eta(j-1) + 1)/K[j-1, j]\n",
    "\n",
    "    def theta(j):\n",
    "        if j==0:\n",
    "            return 1\n",
    "        else:\n",
    "            return theta(j-1)*K[j, j-1]/K[j-1, j]\n",
    "\n",
    "    etavec = [eta(j) for j in range(0, nmin-1)]\n",
    "    thetavec = [theta(j) for j in range(0, nmin-1)]\n",
    "    tmean_oneton = lambda n: (eta(n)/theta(n))*np.sum(thetavec[0:n]) - np.sum(etavec[0:n]) \n",
    "\n",
    "    def xeta(j):\n",
    "        if j == nmin-1:\n",
    "            return 0\n",
    "        else:\n",
    "            return (K[j, j+1]*xeta(j+1) + 1)/K[j+1, j]\n",
    "\n",
    "    def xtheta(j):\n",
    "        if j == nmin-1:\n",
    "            return 1\n",
    "        else:\n",
    "            return xtheta(j+1)*K[j, j+1]/K[j+1, j]\n",
    "\n",
    "    xetavec = [xeta(j) for j in range(1, nmin)]\n",
    "    xthetavec = [xtheta(j) for j in range(1, nmin)]\n",
    "    tmean_nmintoone = lambda n: (xeta(n)/xtheta(n))*np.sum(xthetavec[n:nmin-1]) - np.sum(xetavec[n:nmin-1]) \n",
    "    mfpt = np.zeros((nmin, nmin), dtype=np.longdouble)\n",
    "    for i in range(0, nmin):\n",
    "        for j in range(0, i):\n",
    "            mfpt[i][j] = tmean_oneton(i) - tmean_oneton(j)\n",
    "        for j in range(i+1, nmin):\n",
    "            mfpt[i][j] = tmean_nmintoone(i) - tmean_nmintoone(j)\n",
    "    return mfpt"
   ]
  },
  {
   "cell_type": "markdown",
   "metadata": {},
   "source": [
    "## Convert a CTMC to a DTMC via matrix exponeniation"
   ]
  },
  {
   "cell_type": "code",
   "execution_count": 6,
   "metadata": {},
   "outputs": [
    {
     "name": "stdout",
     "output_type": "stream",
     "text": [
      "[1. 1. 1. 1. 1. 1. 1. 1. 1. 1. 1.]\n",
      "[0.00000000e+00 0.00000000e+00 0.00000000e+00 9.92616735e-23 0.00000000e+00 0.00000000e+00 9.92616735e-23 0.00000000e+00 0.00000000e+00 0.00000000e+00\n",
      " 0.00000000e+00]\n"
     ]
    }
   ],
   "source": [
    "beta = 5 #T=0.20\n",
    "#B is branching probability matrix, wait_CT is vector of waiting times\n",
    "B, Knodiag, wait_CT, N, u, s, Emin, retained = PyGT.io.load_ktn('KTN_data/chain', beta=beta)\n",
    "K = Kmat(1/beta) #CTMC\n",
    "pi = peq(1/beta) #stationary probabilities\n",
    "tau = 0.001 #lag time\n",
    "T = expm(K*tau) #DTMC\n",
    "wait_DT = np.tile(tau, 11) #vector of lag times\n",
    "print(T.sum(axis=0))\n",
    "print(K.sum(axis=0))"
   ]
  },
  {
   "cell_type": "code",
   "execution_count": 13,
   "metadata": {},
   "outputs": [
    {
     "data": {
      "text/plain": [
       "<matplotlib.legend.Legend at 0x7ffc36944b50>"
      ]
     },
     "execution_count": 13,
     "metadata": {},
     "output_type": "execute_result"
    },
    {
     "data": {
      "image/png": "[encoded data removed]",
      "text/plain": [
       "<Figure size 432x288 with 1 Axes>"
      ]
     },
     "metadata": {},
     "output_type": "display_data"
    }
   ],
   "source": [
    "#compare 2<->10 inter-microstate MFPTs produced from CTMC to those produced from ``equivalent\" DTMC\n",
    "betas = np.linspace(0.1, 15, 20)\n",
    "mfpt2_10_CT = np.zeros((len(betas), 2))\n",
    "mfpt2_10_DT = np.zeros((len(betas), 2))\n",
    "for i,beta in enumerate(betas):\n",
    "    B, Knodiag, wait_CT, N, u, s, Emin, retained = PyGT.io.load_ktn('KTN_data/chain', beta=beta)\n",
    "    K = Kmat(1/beta)\n",
    "    T = expm(K*tau)\n",
    "    #continuous time computation\n",
    "    mfpt2_10_CT[i,0], mfpt2_10_CT[i,1] = PyGT.mfpt.compute_MFPT(1,9,B,wait_CT)\n",
    "    #discrete time\n",
    "    mfpt2_10_DT[i,0], mfpt2_10_DT[i,1] = PyGT.mfpt.compute_MFPT(1,9,T,wait_DT)\n",
    "\n",
    "fig, ax = plt.subplots()\n",
    "ax.plot(betas, mfpt2_10_CT[:,0], 'b-', label='2$\\leftarrow$10, CT')\n",
    "ax.plot(betas, mfpt2_10_DT[:,0], 'bo', label='2$\\leftarrow$10, DT')\n",
    "ax.plot(betas, mfpt2_10_CT[:,1], 'r-', label='10$\\leftarrow$2, CT')\n",
    "ax.plot(betas, mfpt2_10_DT[:,1], 'ro', label='10$\\leftarrow$2, DT')\n",
    "plt.yscale('log')\n",
    "plt.xlabel(r'$1/T$')\n",
    "plt.ylabel('MFPT')\n",
    "plt.legend()"
   ]
  },
  {
   "cell_type": "markdown",
   "metadata": {},
   "source": [
    "## Convert DTMC back to CTMC via inversion of MFPT matrix"
   ]
  },
  {
   "cell_type": "code",
   "execution_count": 28,
   "metadata": {},
   "outputs": [],
   "source": [
    "betas = np.linspace(0.1, 5, 20)\n",
    "mfpt2_10_CT2 = np.zeros((len(betas), 2))\n",
    "mfpt2_10_DT2 = np.zeros((len(betas), 2))\n",
    "for i,beta in enumerate(betas):\n",
    "    B, Knodiag, wait_CT, N, u, s, Emin, retained = PyGT.io.load_ktn('KTN_data/chain', beta=beta)\n",
    "    K = Kmat(1/beta)\n",
    "    T = expm(K*tau)\n",
    "    pi = peq(1/beta)\n",
    "    #get back CTMC from inversion of MFPT matrix\n",
    "    mfptCT = PyGT.mfpt.full_MFPT_matrix(B, wait_CT)\n",
    "    KfromMFPT_CT = spla.inv(mfptCT)@(-np.ones((11,11)) + spla.inv(np.diag(pi)))\n",
    "    #compute 2<->10 MFPTs from the resultant CTMC\n",
    "    waitCTfromMFPT = -1/np.diag(KfromMFPT_CT)\n",
    "    Knodiag = KfromMFPT_CT - np.diag(np.diag(KfromMFPT_CT))\n",
    "    D = -1*np.diag(np.diag(KfromMFPT_CT))\n",
    "    BfromMFPT_CT = Knodiag@spla.inv(D)\n",
    "    mfpt2_10_CT2[i,0], mfpt2_10_CT2[i,1] = PyGT.mfpt.compute_MFPT(1,9,BfromMFPT_CT,waitCTfromMFPT)\n",
    "    #discrete time to CTMC via inversion of MFPT matrix\n",
    "    mfptDT = PyGT.mfpt.full_MFPT_matrix(T, wait_DT)\n",
    "    KfromMFPT_DT = spla.inv(mfptDT)@(-np.ones((11,11)) + spla.inv(np.diag(pi)))\n",
    "    #compute 2<->10 MFPTs from the resultant CTMC\n",
    "    waitDTfromMFPT = -1/np.diag(KfromMFPT_DT)\n",
    "    Knodiag = KfromMFPT_DT - np.diag(np.diag(KfromMFPT_DT))\n",
    "    D = -1*np.diag(np.diag(KfromMFPT_DT))\n",
    "    BfromMFPT_DT = Knodiag@spla.inv(D)\n",
    "    mfpt2_10_DT2[i,0], mfpt2_10_DT2[i,1] = PyGT.mfpt.compute_MFPT(1,9,BfromMFPT_DT,waitDTfromMFPT)\n"
   ]
  },
  {
   "cell_type": "code",
   "execution_count": 29,
   "metadata": {},
   "outputs": [
    {
     "data": {
      "text/plain": [
       "<matplotlib.legend.Legend at 0x7ffc36090090>"
      ]
     },
     "execution_count": 29,
     "metadata": {},
     "output_type": "execute_result"
    },
    {
     "data": {
      "image/png": "[encoded data removed]",
      "text/plain": [
       "<Figure size 432x288 with 1 Axes>"
      ]
     },
     "metadata": {},
     "output_type": "display_data"
    }
   ],
   "source": [
    "fig, ax = plt.subplots()\n",
    "ax.plot(betas, mfpt2_10_CT2[:,0], 'b-', label='2$\\leftarrow$10, CT')\n",
    "ax.plot(betas, mfpt2_10_DT2[:,0], 'bo', label='2$\\leftarrow$10, DT')\n",
    "ax.plot(betas, mfpt2_10_CT2[:,1], 'r-', label='10$\\leftarrow$2, CT')\n",
    "ax.plot(betas, mfpt2_10_DT2[:,1], 'ro', label='10$\\leftarrow$2, DT')\n",
    "plt.yscale('log')\n",
    "plt.xlabel(r'$1/T$')\n",
    "plt.ylabel('MFPT')\n",
    "plt.legend()"
   ]
  },
  {
   "cell_type": "markdown",
   "metadata": {},
   "source": [
    "## Kemeny constants of DTMC and CTMC"
   ]
  },
  {
   "cell_type": "code",
   "execution_count": 95,
   "metadata": {},
   "outputs": [
    {
     "name": "stdout",
     "output_type": "stream",
     "text": [
      "Trace of fundamental matrix: 267.56807878611727\n",
      "pi@mfpt from fundamental matrix: 267.56807878611727\n",
      "pi@mfpt from PyGT: 267.56807878611716\n"
     ]
    }
   ],
   "source": [
    "beta = 0.1\n",
    "B, Knodiag, wait_CT, N, u, s, Emin, retained = PyGT.io.load_ktn('KTN_data/chain', beta=beta)\n",
    "K = Kmat(1./beta)\n",
    "pi = peq(1./beta)\n",
    "V = 11\n",
    "pioneV = pi.reshape((V,1))@np.ones((1,11))\n",
    "Z = spla.inv(pioneV + K) - pioneV\n",
    "mfpt_fundCT = np.zeros((V,V))\n",
    "mfptGTCT = PyGT.mfpt.full_MFPT_matrix(B, wait_CT)\n",
    "for i in range(V):\n",
    "    for j in range(V):\n",
    "        mfpt_fundCT[i,j] = (Z[i,j] - Z[i,i])/pi[i]\n",
    "kemeny = -1*np.trace(Z)\n",
    "print(f'Trace of fundamental matrix: {kemeny}')\n",
    "print(f'pi@mfpt from fundamental matrix: {(pi@mfpt_fundCT)[0]}')\n",
    "print(f'pi@mfpt from PyGT: {(pi@mfptGTCT)[0]}')"
   ]
  },
  {
   "cell_type": "code",
   "execution_count": 97,
   "metadata": {},
   "outputs": [
    {
     "name": "stdout",
     "output_type": "stream",
     "text": [
      "Trace of Kemeny and Snell fundamental matrix: 267.5680852100097\n"
     ]
    }
   ],
   "source": [
    "#DTMC\n",
    "tau = 0.000001\n",
    "waitDT = np.tile(tau, V)\n",
    "T = expm(K*tau)\n",
    "Zdt = spla.inv(pioneV + np.eye(V,V) - T)\n",
    "kemenyDT = np.trace(Zdt)\n",
    "print(f'Trace of Kemeny and Snell fundamental matrix: {kemenyDT*tau}')"
   ]
  },
  {
   "cell_type": "code",
   "execution_count": 98,
   "metadata": {},
   "outputs": [
    {
     "name": "stdout",
     "output_type": "stream",
     "text": [
      "Trace of Meyer group inverse: 267.5680852100097\n"
     ]
    }
   ],
   "source": [
    "#group inverse\n",
    "Ahash = Zdt - pioneV\n",
    "print(f'Trace of Meyer group inverse: {tau*(np.trace(Ahash) + 1)}')"
   ]
  },
  {
   "cell_type": "code",
   "execution_count": 107,
   "metadata": {},
   "outputs": [
    {
     "name": "stdout",
     "output_type": "stream",
     "text": [
      "Kemeny from fund mfpt matrix: 267.5680852100097\n",
      "Kemeny from GT mfpt matrix: 267.56808378611726\n"
     ]
    }
   ],
   "source": [
    "#Kemeny constant from MFPT matrix. \n",
    "#NOTE: if diagonals are set to zero, then the Kemeny constant is off by one\n",
    "mfpt_fundDT = np.zeros((V,V))\n",
    "for i in range(V):\n",
    "    for j in range(V):\n",
    "        if i==j:\n",
    "            mfpt_fundDT[i,j] = 1/pi[i]\n",
    "        else:\n",
    "            mfpt_fundDT[i,j] = (Zdt[i,i] - Zdt[i,j])/pi[i]\n",
    "print(f'Kemeny from fund mfpt matrix: {tau*(pi@mfpt_fundDT)[0]}')\n",
    "mfptGTDT = PyGT.mfpt.full_MFPT_matrix(T, waitDT)\n",
    "print(f'Kemeny from GT mfpt matrix: {(pi@mfptGTDT)[0]}')"
   ]
  },
  {
   "cell_type": "code",
   "execution_count": 108,
   "metadata": {},
   "outputs": [
    {
     "name": "stdout",
     "output_type": "stream",
     "text": [
      "[1. 1. 1. 1. 1. 1. 1. 1. 1. 1. 1.]\n"
     ]
    }
   ],
   "source": [
    "#Eq (71) of Kells at al JCP (2020)\n",
    "Dn = np.diag(pi)\n",
    "Q = spla.inv(np.eye(V,V) - Dn@mfpt_fundDT)@(pioneV - Dn@mfpt_fundDT)\n",
    "print(Q.sum(axis=0))"
   ]
  },
  {
   "cell_type": "code",
   "execution_count": 109,
   "metadata": {},
   "outputs": [
    {
     "name": "stdout",
     "output_type": "stream",
     "text": [
      "267.5682085900958\n",
      "267.56820859009474328\n"
     ]
    }
   ],
   "source": [
    "#compute Kemeny constant of the new DTMC that you get from Eq 71\n",
    "Zdt2 = spla.inv(pioneV + np.eye(V,V) - Q)\n",
    "kemenyDT2 = np.trace(Zdt2)\n",
    "print(tau*kemenyDT2)\n",
    "mfpt_fundDT2 = np.zeros((V,V))\n",
    "for i in range(V):\n",
    "    for j in range(V):\n",
    "        if i==j:\n",
    "            mfpt_fundDT2[i,j] = 1/pi[i]\n",
    "        else:\n",
    "            mfpt_fundDT2[i,j] = (Zdt2[i,i] - Zdt2[i,j])/pi[i]\n",
    "            \n",
    "print(tau*(pi@mfpt_fundDT2)[0])"
   ]
  },
  {
   "cell_type": "code",
   "execution_count": 110,
   "metadata": {},
   "outputs": [
    {
     "name": "stdout",
     "output_type": "stream",
     "text": [
      "[[1.         0.99999987 0.99999975 0.99999968 0.99999961 0.99999954 0.99999949 0.99999945 0.99999943 0.99999941 0.9999994 ]\n",
      " [1.00000101 1.         0.99999971 0.99999964 0.99999958 0.99999951 0.99999946 0.99999943 0.99999941 0.99999939 0.99999938]\n",
      " [1.00000083 1.00000082 1.         0.99999961 0.99999954 0.99999948 0.99999943 0.9999994  0.99999938 0.99999937 0.99999936]\n",
      " [1.00000054 1.00000053 1.00000052 1.         0.99999964 0.9999996  0.99999957 0.99999955 0.99999953 0.99999952 0.99999951]\n",
      " [1.00000031 1.00000031 1.0000003  1.0000003  1.         0.99999972 0.99999969 0.99999967 0.99999966 0.99999965 0.99999964]\n",
      " [0.99999996 0.99999996 0.99999997 0.99999997 0.99999998 1.         1.00000001 1.         1.         0.99999999 0.99999999]\n",
      " [0.99999967 0.99999967 0.99999969 0.9999997  0.99999972 0.99999975 1.         1.00000036 1.00000036 1.00000036 1.00000036]\n",
      " [0.99999945 0.99999946 0.99999948 0.9999995  0.99999953 0.99999957 0.99999962 1.         1.00000073 1.00000074 1.00000077]\n",
      " [0.99999936 0.99999937 0.99999939 0.99999942 0.99999946 0.99999951 0.99999957 0.99999964 1.         1.000001   1.00000104]\n",
      " [0.99999934 0.99999934 0.99999937 0.9999994  0.99999944 0.99999951 0.99999958 0.99999966 0.99999973 1.         1.00000133]\n",
      " [0.99999938 0.99999939 0.99999942 0.99999945 0.9999995  0.99999956 0.99999964 0.99999972 0.99999979 0.99999986 1.        ]]\n"
     ]
    }
   ],
   "source": [
    "#MFPTs from original DTMC match those of new DTMC via Eq. 71\n",
    "print(mfpt_fundDT/mfpt_fundDT2)"
   ]
  },
  {
   "cell_type": "code",
   "execution_count": 111,
   "metadata": {},
   "outputs": [
    {
     "name": "stdout",
     "output_type": "stream",
     "text": [
      "[[       nan 1.00000008 1.00000003 1.00000002 1.00000001 1.00000001 1.00000001 1.00000001 1.00000001 1.00000001 1.00000001]\n",
      " [1.00000063        nan 1.00000003 1.00000002 1.00000001 1.00000001 1.00000001 1.00000001 1.00000001 1.00000001 1.00000001]\n",
      " [1.0000001  1.00000012        nan 1.00000006 1.00000003 1.00000002 1.00000001 1.00000001 1.00000001 1.00000001 1.00000001]\n",
      " [1.00000007 1.00000007 1.00000014        nan 1.00000007 1.00000004 1.00000002 1.00000002 1.00000002 1.00000002 1.00000002]\n",
      " [1.00000004 1.00000005 1.00000006 1.00000011        nan 1.00000008 1.00000004 1.00000003 1.00000003 1.00000002 1.00000002]\n",
      " [1.00000003 1.00000003 1.00000004 1.00000005 1.00000009        nan 1.00000011 1.00000006 1.00000005 1.00000004 1.00000004]\n",
      " [1.00000002 1.00000002 1.00000002 1.00000003 1.00000004 1.00000007        nan 1.00000013 1.00000008 1.00000006 1.00000006]\n",
      " [1.00000001 1.00000002 1.00000002 1.00000002 1.00000002 1.00000003 1.00000006        nan 1.00000017 1.0000001  1.00000009]\n",
      " [1.00000001 1.00000001 1.00000001 1.00000001 1.00000002 1.00000002 1.00000003 1.00000006        nan 1.00000025 1.00000017]\n",
      " [1.00000001 1.00000001 1.00000001 1.00000001 1.00000001 1.00000001 1.00000002 1.00000003 1.00000005        nan 1.00000047]\n",
      " [1.00000001 1.00000001 1.00000001 1.00000001 1.00000001 1.00000001 1.00000001 1.00000002 1.00000003 1.00000005        nan]]\n"
     ]
    },
    {
     "name": "stderr",
     "output_type": "stream",
     "text": [
      "/Users/deepti/opt/anaconda3/lib/python3.7/site-packages/ipykernel_launcher.py:1: RuntimeWarning: invalid value encountered in true_divide\n",
      "  \"\"\"Entry point for launching an IPython kernel.\n"
     ]
    }
   ],
   "source": [
    "#MFPTs in DT match those in CT\n",
    "print(mfptGTDT/mfptGTCT)"
   ]
  },
  {
   "cell_type": "code",
   "execution_count": 113,
   "metadata": {},
   "outputs": [
    {
     "name": "stdout",
     "output_type": "stream",
     "text": [
      "[[0.00000000e+00 9.99999998e-07 9.99999995e-07 9.99999995e-07 9.99999995e-07 9.99999996e-07 9.99999996e-07 9.99999996e-07 9.99999996e-07 9.99999996e-07\n",
      "  9.99999996e-07]\n",
      " [1.00000001e-06 0.00000000e+00 9.99999994e-07 9.99999995e-07 9.99999995e-07 9.99999996e-07 9.99999996e-07 9.99999996e-07 9.99999996e-07 9.99999996e-07\n",
      "  9.99999996e-07]\n",
      " [1.00000001e-06 1.00000001e-06 0.00000000e+00 1.00000000e-06 9.99999999e-07 9.99999999e-07 1.00000000e-06 1.00000000e-06 1.00000000e-06 9.99999999e-07\n",
      "  9.99999999e-07]\n",
      " [1.00000000e-06 1.00000000e-06 9.99999999e-07 0.00000000e+00 9.99999998e-07 9.99999999e-07 1.00000000e-06 1.00000000e-06 1.00000000e-06 1.00000000e-06\n",
      "  1.00000000e-06]\n",
      " [1.00000000e-06 1.00000000e-06 1.00000000e-06 1.00000000e-06 0.00000000e+00 1.00000000e-06 1.00000000e-06 1.00000000e-06 1.00000000e-06 1.00000000e-06\n",
      "  1.00000000e-06]\n",
      " [9.99999998e-07 9.99999998e-07 9.99999999e-07 9.99999999e-07 9.99999999e-07 0.00000000e+00 1.00000000e-06 1.00000000e-06 1.00000000e-06 1.00000000e-06\n",
      "  1.00000000e-06]\n",
      " [9.99999998e-07 9.99999998e-07 9.99999999e-07 9.99999999e-07 9.99999999e-07 1.00000000e-06 0.00000000e+00 1.00000000e-06 1.00000000e-06 1.00000000e-06\n",
      "  1.00000000e-06]\n",
      " [9.99999998e-07 9.99999998e-07 9.99999999e-07 9.99999999e-07 1.00000000e-06 1.00000000e-06 1.00000000e-06 0.00000000e+00 1.00000000e-06 1.00000000e-06\n",
      "  1.00000000e-06]\n",
      " [9.99999998e-07 9.99999998e-07 9.99999999e-07 1.00000000e-06 1.00000000e-06 1.00000000e-06 1.00000000e-06 1.00000000e-06 0.00000000e+00 1.00000001e-06\n",
      "  1.00000001e-06]\n",
      " [9.99999998e-07 9.99999998e-07 9.99999999e-07 9.99999999e-07 1.00000000e-06 1.00000000e-06 1.00000000e-06 9.99999999e-07 9.99999999e-07 0.00000000e+00\n",
      "  1.00000001e-06]\n",
      " [9.99999998e-07 9.99999998e-07 9.99999999e-07 9.99999999e-07 9.99999999e-07 9.99999999e-07 9.99999999e-07 9.99999999e-07 9.99999999e-07 9.99999999e-07\n",
      "  0.00000000e+00]]\n"
     ]
    }
   ],
   "source": [
    "#mfpts from GT are just off by a factor of the lag time\n",
    "print(mfptGTDT/mfpt_fundDT)"
   ]
  },
  {
   "cell_type": "code",
   "execution_count": null,
   "metadata": {},
   "outputs": [],
   "source": []
  }
 ],
 "metadata": {
  "kernelspec": {
   "display_name": "Python 3",
   "language": "python",
   "name": "python3"
  },
  "language_info": {
   "codemirror_mode": {
    "name": "ipython",
    "version": 3
   },
   "file_extension": ".py",
   "mimetype": "text/x-python",
   "name": "python",
   "nbconvert_exporter": "python",
   "pygments_lexer": "ipython3",
   "version": "3.7.6"
  }
 },
 "nbformat": 4,
 "nbformat_minor": 4
}
