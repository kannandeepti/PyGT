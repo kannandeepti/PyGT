{
 "cells": [
  {
   "cell_type": "code",
   "execution_count": 1,
   "metadata": {},
   "outputs": [],
   "source": [
    "# Will be replaced by pip installation\n",
    "import sys\n",
    "sys.path.insert(0,\"../\")\n",
    "\n",
    "import numpy as np\n",
    "import matplotlib.pyplot as plt\n",
    "# for colorbar placement\n",
    "from mpl_toolkits.axes_grid1 import make_axes_locatable\n",
    "\n",
    "# To construct rate matrix\n",
    "from scipy.sparse import issparse, diags\n",
    "\n",
    "import PyGT"
   ]
  },
  {
   "cell_type": "markdown",
   "metadata": {},
   "source": [
    "## Load in matrix and vectors selecting $\\mathcal{A,B}$ regions using the KTN format\n",
    "\n",
    "KTN (Kinetic Transition Network) format requires two files:\n",
    "- `min.data` columns :  $E,\\,2S/{\\rm k_B},\\,D,\\,I_x,\\,I_y,\\,I_z$\n",
    "- `ts.data`  columns    :  $E,\\,2S/{\\rm k_B},\\,D,\\,f,\\,i,\\,I_x,\\,I_y,\\,I_z$\n",
    "\n",
    "where \n",
    "- $E$ = Energy\n",
    "- $S$ = Entropy\n",
    "- $D$ = Degeneracy\n",
    "- $I_x$ = $x$-moment of intertia\n",
    "- $f,i$ = final,initial state indicies\n",
    "\n",
    "Some technical details:\n",
    "- `load_ktn()` function looks for files `[min,ts].data` to build KTN, pruning isolated nodes, giving a new node indexing\n",
    "- `load_ktn_AB()` function looks for files `min.[A,B]` which use the same indicies as the data file\n",
    "- `retained` is a vector that maps from the unpruned to pruned indexing convention, allowing `min.[A,B]` to be read\n",
    "- Note that `A_vec, B_vec` can clearly be determined without using `load_ktn_AB()` or `retained`"
   ]
  },
  {
   "cell_type": "markdown",
   "metadata": {},
   "source": [
    "## For this example we are loading in a 32 state network:\n",
    "\n",
    "<img src=\"32state.png\" alt=\"Example KTN\" width=\"400\"/>\n"
   ]
  },
  {
   "cell_type": "code",
   "execution_count": 2,
   "metadata": {},
   "outputs": [
    {
     "name": "stdout",
     "output_type": "stream",
     "text": [
      "\n",
      "\tConnected Clusters: 1, of which 95% have <= 32 states\n",
      "\tRetaining largest cluster with 32 nodes\n",
      "\n",
      "States in A,I,B: (8, 16, 8)\n",
      "Community 0: 8\n",
      "Community 1: 8\n",
      "Community 2: 8\n",
      "Community 3: 8\n",
      "\n",
      "Communities file identifies 4 macrostates\n"
     ]
    }
   ],
   "source": [
    "data_path = \"../KTN_data/32state\" #LJ38/4k/\"\n",
    "temp = 1.\n",
    "beta = 1./temp\n",
    "\n",
    "B, K, tau, N, u, s, Emin, retained = PyGT.io.load_ktn(path=data_path,beta=beta,screen=True)\n",
    "\n",
    "F = u - s/beta # free energy\n",
    "\n",
    "pi = np.exp(-beta * F) / np.exp(-beta * F).sum() # stationary distribution\n",
    "\n",
    "# K has no diagonal entries\n",
    "if issparse(K):\n",
    "    Q = K - diags(1.0/tau)\n",
    "else:\n",
    "    Q = K - np.diag(1.0/tau)\n",
    "\n",
    "A_vec, B_vec = PyGT.io.load_ktn_AB(data_path,retained)\n",
    "I_vec = ~(A_vec+B_vec)\n",
    "print(f'States in A,I,B: {A_vec.sum(),I_vec.sum(),B_vec.sum()}')\n",
    "\n",
    "communities = PyGT.io.read_communities(data_path+\"/communities.dat\",retained,screen=True)\n",
    "print('\\nCommunities file identifies %d macrostates' % len(communities.keys()))\n"
   ]
  },
  {
   "cell_type": "markdown",
   "metadata": {},
   "source": [
    "# Remove a set of nodes in $\\mathcal{I}$ using graph transformation\n",
    "\n",
    "- We remove all nodes in $\\mathcal{I}$ above the 10th percentile in free energy\n",
    "- See documentation of ` PyGT.analysis.choose_nodes_to_remove() ` for other options"
   ]
  },
  {
   "cell_type": "code",
   "execution_count": 3,
   "metadata": {},
   "outputs": [
    {
     "data": {
      "application/vnd.jupyter.widget-view+json": {
       "model_id": "c34e5cc58571493aaa4d91528e35e892",
       "version_major": 2,
       "version_minor": 0
      },
      "text/plain": [
       "HBox(children=(FloatProgress(value=0.0, description='GT', max=14.0, style=ProgressStyle(description_width='ini…"
      ]
     },
     "metadata": {},
     "output_type": "display_data"
    },
    {
     "name": "stdout",
     "output_type": "stream",
     "text": [
      "\n",
      "GT BECAME DENSE AT N=32, density=0.136719\n",
      "GT done in 0.017 seconds with 0 floating point corrections\n"
     ]
    }
   ],
   "source": [
    "\n",
    "rm_vec = PyGT.tools.choose_nodes_to_remove(rm_region=I_vec,\n",
    "                                              pi=pi,\n",
    "                                              tau=tau,\n",
    "                                              style=\"escape_time\",\n",
    "                                              percent_retained=10\n",
    "                                             )\n",
    "\n",
    "\n",
    "gt_B, gt_tau, gt_K = PyGT.GT.partialGT(rm_vec,B,tau,block=10,rates=True,screen=True)\n"
   ]
  },
  {
   "cell_type": "markdown",
   "metadata": {},
   "source": [
    "## Find full MFPT matrix"
   ]
  },
  {
   "cell_type": "code",
   "execution_count": 4,
   "metadata": {},
   "outputs": [
    {
     "data": {
      "application/vnd.jupyter.widget-view+json": {
       "model_id": "6d1d092607f949768ff9e45880329569",
       "version_major": 2,
       "version_minor": 0
      },
      "text/plain": [
       "HBox(children=(FloatProgress(value=0.0, description='MFPT matrix computation', max=496.0, style=ProgressStyle(…"
      ]
     },
     "metadata": {},
     "output_type": "display_data"
    },
    {
     "name": "stdout",
     "output_type": "stream",
     "text": [
      "\n"
     ]
    },
    {
     "data": {
      "text/plain": [
       "<matplotlib.image.AxesImage at 0x7f89db953710>"
      ]
     },
     "execution_count": 4,
     "metadata": {},
     "output_type": "execute_result"
    },
    {
     "data": {
      "image/png": "[encoded data removed]",
      "text/plain": [
       "<Figure size 288x288 with 1 Axes>"
      ]
     },
     "metadata": {
      "needs_background": "light"
     },
     "output_type": "display_data"
    }
   ],
   "source": [
    "tauM = PyGT.mfpt.full_MFPT_matrix(B,tau,screen=True)\n",
    "plt.matshow(tauM)"
   ]
  },
  {
   "cell_type": "markdown",
   "metadata": {},
   "source": [
    "## Find communitity MFPT matrix via full MFPT calculation or metastability approx\n",
    "Reduced Boltzmann is the same in both cases"
   ]
  },
  {
   "cell_type": "code",
   "execution_count": 5,
   "metadata": {},
   "outputs": [
    {
     "data": {
      "application/vnd.jupyter.widget-view+json": {
       "model_id": "e46589e361db46e2942d5c16be727aa6",
       "version_major": 2,
       "version_minor": 0
      },
      "text/plain": [
       "HBox(children=(FloatProgress(value=0.0, description='MFPT matrix computation', max=496.0, style=ProgressStyle(…"
      ]
     },
     "metadata": {},
     "output_type": "display_data"
    },
    {
     "name": "stdout",
     "output_type": "stream",
     "text": [
      "\n"
     ]
    },
    {
     "data": {
      "application/vnd.jupyter.widget-view+json": {
       "model_id": "aaa59e3f345b4ce4b7bd01677454d1f2",
       "version_major": 2,
       "version_minor": 0
      },
      "text/plain": [
       "HBox(children=(FloatProgress(value=0.0, description='MFPT matrix computation (MS approx)', max=10.0, style=Pro…"
      ]
     },
     "metadata": {},
     "output_type": "display_data"
    },
    {
     "name": "stdout",
     "output_type": "stream",
     "text": [
      "\n"
     ]
    }
   ],
   "source": [
    "\n",
    "c_pi, c_tauM = PyGT.mfpt.community_MFPT_matrix(communities,B,tau,pi,MS_approx=False,screen=True)\n",
    "\n",
    "c_pi, c_tauM_approx = PyGT.mfpt.community_MFPT_matrix(communities,B,tau,pi,MS_approx=True,screen=True)\n",
    "\n"
   ]
  },
  {
   "cell_type": "markdown",
   "metadata": {},
   "source": [
    "## Plot ratio of exact to approximate MFPT matrix\n",
    "Diagonal entries will be set to zero in application, but here we set diagonal terms to unity to avoid errors when taking ratio."
   ]
  },
  {
   "cell_type": "code",
   "execution_count": 6,
   "metadata": {},
   "outputs": [
    {
     "data": {
      "text/plain": [
       "<matplotlib.colorbar.Colorbar at 0x7f89c16dad10>"
      ]
     },
     "execution_count": 6,
     "metadata": {},
     "output_type": "execute_result"
    },
    {
     "data": {
      "image/png": "[encoded data removed]",
      "text/plain": [
       "<Figure size 600x600 with 2 Axes>"
      ]
     },
     "metadata": {
      "needs_background": "light"
     },
     "output_type": "display_data"
    }
   ],
   "source": [
    "c_tauM += np.eye(c_pi.size) - np.diag(c_tauM) # i.e. remove diagonal and replace with 1\n",
    "c_tauM_approx += np.eye(c_pi.size) - np.diag(c_tauM_approx) # i.e. remove diagonal and replace with 1\n",
    "\n",
    "plt.figure(figsize=(6,6),dpi=100)\n",
    "plt.title(r\"Matrix of $(\\mathcal{T}_{\\rm approx}-\\mathcal{T})\\,/\\,\\mathcal{T}$\")\n",
    "ax = plt.gca()\n",
    "im = ax.matshow((c_tauM_approx-c_tauM)/c_tauM)\n",
    "divider = make_axes_locatable(ax)\n",
    "cax = divider.append_axes(\"right\", size=\"5%\", pad=0.05)\n",
    "plt.colorbar(im, cax=cax)\n"
   ]
  },
  {
   "cell_type": "markdown",
   "metadata": {},
   "source": [
    "## First passage time distribution between $\\mathcal{A}$ and $\\mathcal{B}$"
   ]
  },
  {
   "cell_type": "code",
   "execution_count": 19,
   "metadata": {},
   "outputs": [
    {
     "name": "stdout",
     "output_type": "stream",
     "text": [
      "tau A<-B :  664.5826837564705 878.2798938434962\n",
      "tau B<-A :  585.7934067017948 777.2852968888889\n"
     ]
    },
    {
     "data": {
      "image/png": "[encoded data removed]",
      "text/plain": [
       "<Figure size 1200x400 with 2 Axes>"
      ]
     },
     "metadata": {
      "needs_background": "light"
     },
     "output_type": "display_data"
    }
   ],
   "source": [
    "\n",
    "tau, pt = PyGT.stats.compute_passage_stats(A_vec,B_vec,pi,-Q,dopdf=True,rt=np.logspace(-6,2,400))\n",
    "\n",
    "fig,axs = plt.subplots(1,2,figsize=(12,4),dpi=100)\n",
    "\n",
    "axs[0].loglog(pt[:,0],pt[:,1]/tau[0])\n",
    "axs[0].set_title(r\"$\\mathcal{A}\\leftarrow\\mathcal{B}$\")\n",
    "axs[0].set_ylabel(r\"$p(t)\")\n",
    "axs[0].set_xlabel(r\"$t$\")\n",
    "axs[1].loglog(pt[:,2],pt[:,3]/tau[2])\n",
    "axs[1].set_title(r\"$\\mathcal{B}\\leftarrow\\mathcal{A}$\")\n",
    "axs[1].set_xlabel(r\"$t$\")\n",
    "\n",
    "print(\"tau A<-B : \",tau[0],np.sqrt(tau[1]))\n",
    "print(\"tau B<-A : \",tau[2],np.sqrt(tau[3]))\n",
    "\n"
   ]
  }
 ],
 "metadata": {
  "kernelspec": {
   "display_name": "Python 3",
   "language": "python",
   "name": "python3"
  },
  "language_info": {
   "codemirror_mode": {
    "name": "ipython",
    "version": 3
   },
   "file_extension": ".py",
   "mimetype": "text/x-python",
   "name": "python",
   "nbconvert_exporter": "python",
   "pygments_lexer": "ipython3",
   "version": "3.7.7"
  }
 },
 "nbformat": 4,
 "nbformat_minor": 4
}
