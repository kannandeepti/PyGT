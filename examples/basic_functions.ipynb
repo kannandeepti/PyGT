{
 "cells": [
  {
   "cell_type": "code",
   "execution_count": 1,
   "metadata": {},
   "outputs": [],
   "source": [
    "import sys\n",
    "sys.path.insert(0,\"../\")\n",
    "import numpy as np\n",
    "import PyGT"
   ]
  },
  {
   "cell_type": "markdown",
   "metadata": {},
   "source": [
    "## Load in matrix and vectors selecting $\\mathcal{A,B}$ regions using the KTN format\n",
    "\n",
    "KTN (Kinetic Transition Network) format requires two files:\n",
    "- `min.data` columns :  $E,\\,2S/{\\rm k_B},\\,D,\\,I_x,\\,I_y,\\,I_z$\n",
    "- `ts.data`  columns    :  $E,\\,2S/{\\rm k_B},\\,D,\\,f,\\,i,\\,I_x,\\,I_y,\\,I_z$\n",
    "\n",
    "where \n",
    "- $E$ = Energy\n",
    "- $S$ = Entropy\n",
    "- $D$ = Degeneracy\n",
    "- $I_x$ = $x$-moment of intertia\n",
    "- $f,i$ = final,initial state indicies\n",
    "\n",
    "Some technical details:\n",
    "- `load_ktn()` function prunes isolated nodes, changing the node indices \n",
    "- `load_ktn_AB()` function looks for files `min.[A,B]` which use the same indicies as the data file\n",
    "- `retained` is a vector that maps from the unpruned to pruned indexing convention\n",
    "- `A_vec, B_vec` can clearly be determined without using `load_ktn_AB()`"
   ]
  },
  {
   "cell_type": "code",
   "execution_count": 2,
   "metadata": {},
   "outputs": [
    {
     "name": "stdout",
     "output_type": "stream",
     "text": [
      "\n",
      "\tConnected Clusters: 1620, of which 95% have <= 2 states\n",
      "\tRetaining largest cluster with 900 nodes\n",
      "\n",
      "States in A,I,B: (5, 767, 128)\n"
     ]
    }
   ],
   "source": [
    "data_path = \"../KTN_data/LJ38/4k/\"\n",
    "temp = 1.\n",
    "beta = 1./temp\n",
    "\n",
    "B, K, tau, N, u, s, Emin, retained = PyGT.io.load_ktn(path=data_path,beta=beta,screen=True)\n",
    "\n",
    "F = u - s/beta # free energy\n",
    "\n",
    "A_vec, B_vec = PyGT.io.load_ktn_AB(data_path,retained)\n",
    "I_vec = ~(A_vec+B_vec)\n",
    "print(f'States in A,I,B: {A_vec.sum(),I_vec.sum(),B_vec.sum()}')"
   ]
  },
  {
   "cell_type": "markdown",
   "metadata": {},
   "source": [
    "# Remove a set of nodes in $\\mathcal{I}$ using graph transformation\n",
    "\n",
    "- We remove all nodes in $\\mathcal{I}$ above the 10th percentile in free energy\n"
   ]
  },
  {
   "cell_type": "code",
   "execution_count": 3,
   "metadata": {},
   "outputs": [
    {
     "data": {
      "application/vnd.jupyter.widget-view+json": {
       "model_id": "14afc7920426491b9a0f2587e8277888",
       "version_major": 2,
       "version_minor": 0
      },
      "text/plain": [
       "HBox(children=(FloatProgress(value=0.0, description='GT', max=690.0, style=ProgressStyle(description_width='in…"
      ]
     },
     "metadata": {},
     "output_type": "display_data"
    },
    {
     "name": "stdout",
     "output_type": "stream",
     "text": [
      "\n",
      "GT done in 0.81 seconds with 0 floating point corrections\n"
     ]
    }
   ],
   "source": [
    "\n",
    "rm_vec = np.zeros(N,bool)\n",
    "\n",
    "rm_vec[I_vec] = F[I_vec]>np.percentile(F[I_vec],10.0)\n",
    "\n",
    "gt_B, gt_tau, gt_K = PyGT.GT(rm_vec,B,tau,block=10,rates=True,screen=True)\n"
   ]
  }
 ],
 "metadata": {
  "kernelspec": {
   "display_name": "Python 3",
   "language": "python",
   "name": "python3"
  },
  "language_info": {
   "codemirror_mode": {
    "name": "ipython",
    "version": 3
   },
   "file_extension": ".py",
   "mimetype": "text/x-python",
   "name": "python",
   "nbconvert_exporter": "python",
   "pygments_lexer": "ipython3",
   "version": "3.7.7"
  }
 },
 "nbformat": 4,
 "nbformat_minor": 4
}
