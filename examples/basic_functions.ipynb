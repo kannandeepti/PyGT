{
 "cells": [
  {
   "cell_type": "code",
   "execution_count": 1,
   "metadata": {},
   "outputs": [],
   "source": [
    "import numpy as np\n",
    "import matplotlib.pyplot as plt\n",
    "from mpl_toolkits.axes_grid1 import make_axes_locatable # for colorbar placement\n",
    "from scipy.sparse import issparse, diags # To construct rate matrix\n",
    "import sys; sys.path.insert(0,\"../\"); import PyGT # Will be replaced by pip installation"
   ]
  },
  {
   "cell_type": "markdown",
   "metadata": {},
   "source": [
    "## Load in matrix and vectors selecting $\\mathcal{A,B}$ regions using the KTN format\n",
    "\n",
    "KTN (Kinetic Transition Network) format requires two files:\n",
    "- `min.data` columns :  $E,\\,2S/{\\rm k_B},\\,D,\\,I_x,\\,I_y,\\,I_z$\n",
    "- `ts.data`  columns    :  $E,\\,2S/{\\rm k_B},\\,D,\\,f,\\,i,\\,I_x,\\,I_y,\\,I_z$\n",
    "\n",
    "where \n",
    "- $E$ = Energy\n",
    "- $S$ = Entropy\n",
    "- $D$ = Degeneracy\n",
    "- $I_x$ = $x$-moment of intertia\n",
    "- $f,i$ = final,initial state indicies\n",
    "\n",
    "Some technical details:\n",
    "- `load_ktn()` function looks for files `[min,ts].data` to build KTN, pruning isolated nodes, giving a new node indexing\n",
    "- `load_ktn_AB()` function looks for files `min.[A,B]` which use the same indicies as the data file\n",
    "- `retained` is a vector that maps from the unpruned to pruned indexing convention, allowing `min.[A,B]` to be read\n",
    "- Note that `A_vec, B_vec` can clearly be determined without using `load_ktn_AB()` or `retained`"
   ]
  },
  {
   "cell_type": "markdown",
   "metadata": {},
   "source": [
    "## For this example we are loading in a 32 state network:\n",
    "\n",
    "<img src=\"32state.png\" alt=\"Example KTN\" width=\"400\"/>\n"
   ]
  },
  {
   "cell_type": "code",
   "execution_count": 2,
   "metadata": {},
   "outputs": [
    {
     "name": "stdout",
     "output_type": "stream",
     "text": [
      "\n",
      "\tConnected Clusters: 1, of which 95% have <= 32 states\n",
      "\tRetaining largest cluster with 32 nodes\n",
      "\n",
      "States in A,I,B: (8, 16, 8)\n",
      "Community 0: 8\n",
      "Community 1: 8\n",
      "Community 2: 8\n",
      "Community 3: 8\n",
      "\n",
      "Communities file identifies 4 macrostates\n"
     ]
    }
   ],
   "source": [
    "data_path = \"../KTN_data/32state\"\n",
    "temp = 0.5\n",
    "beta = 1./temp\n",
    "\n",
    "B, K, tau, N, u, s, Emin, retained = PyGT.io.load_ktn(path=data_path,beta=beta,screen=True)\n",
    "\n",
    "F = u - s/beta # free energy\n",
    "\n",
    "pi = np.exp(-beta * F) / np.exp(-beta * F).sum() # stationary distribution\n",
    "\n",
    "# K has no diagonal entries\n",
    "if issparse(K):\n",
    "    Q = K - diags(1.0/tau)\n",
    "else:\n",
    "    Q = K - np.diag(1.0/tau)\n",
    "\n",
    "A_vec, B_vec = PyGT.io.load_ktn_AB(data_path,retained)\n",
    "I_vec = ~(A_vec+B_vec)\n",
    "print(f'States in A,I,B: {A_vec.sum(),I_vec.sum(),B_vec.sum()}')\n",
    "\n",
    "communities = PyGT.io.read_communities(data_path+\"/communities.dat\",retained,screen=True)\n",
    "print('\\nCommunities file identifies %d macrostates' % len(communities.keys()))"
   ]
  },
  {
   "cell_type": "markdown",
   "metadata": {},
   "source": [
    "# Remove a set of nodes in $\\mathcal{I}$ using graph transformation\n",
    "\n",
    "- We remove all nodes in $\\mathcal{I} = (\\mathcal{A}\\cup\\mathcal{B})^\\mathsf{c}$ above the 10th percentile in free energy\n",
    "- See documentation of ` PyGT.tools.choose_nodes_to_remove() ` for other options"
   ]
  },
  {
   "cell_type": "code",
   "execution_count": 3,
   "metadata": {},
   "outputs": [
    {
     "data": {
      "application/vnd.jupyter.widget-view+json": {
       "model_id": "e1789651bcfb4e5eb44acf3d8952adea",
       "version_major": 2,
       "version_minor": 0
      },
      "text/plain": [
       "HBox(children=(FloatProgress(value=0.0, description='GT', max=11.0, style=ProgressStyle(description_width='ini…"
      ]
     },
     "metadata": {},
     "output_type": "display_data"
    },
    {
     "name": "stdout",
     "output_type": "stream",
     "text": [
      "\n",
      "GT BECAME DENSE AT N=32, density=0.136719\n",
      "GT done in 0.042 seconds with 0 floating point corrections\n"
     ]
    }
   ],
   "source": [
    "\n",
    "rm_vec = PyGT.tools.choose_nodes_to_remove(rm_region=I_vec,\n",
    "                                              pi=pi,\n",
    "                                              tau=tau,\n",
    "                                              style=\"free_energy\",\n",
    "                                              percent_retained=10\n",
    "                                             )\n",
    "\n",
    "\n",
    "gt_B, gt_tau, gt_K = PyGT.GT.blockGT(rm_vec,B,tau,block=10,rates=True,screen=True)\n"
   ]
  },
  {
   "cell_type": "markdown",
   "metadata": {},
   "source": [
    "## Find communitity MFPT matrix via full MFPT calculation or metastability approx\n",
    "Reduced Boltzmann is the same in both cases"
   ]
  },
  {
   "cell_type": "code",
   "execution_count": 4,
   "metadata": {},
   "outputs": [
    {
     "data": {
      "application/vnd.jupyter.widget-view+json": {
       "model_id": "a755f9645a2b40e2b00a20e1b492667c",
       "version_major": 2,
       "version_minor": 0
      },
      "text/plain": [
       "HBox(children=(FloatProgress(value=0.0, description='MFPT matrix computation', max=496.0, style=ProgressStyle(…"
      ]
     },
     "metadata": {},
     "output_type": "display_data"
    },
    {
     "name": "stdout",
     "output_type": "stream",
     "text": [
      "\n"
     ]
    },
    {
     "data": {
      "application/vnd.jupyter.widget-view+json": {
       "model_id": "8d27038820a1495dbb04aa35db0e0f5e",
       "version_major": 2,
       "version_minor": 0
      },
      "text/plain": [
       "HBox(children=(FloatProgress(value=0.0, description='MFPT matrix computation (MS approx)', max=10.0, style=Pro…"
      ]
     },
     "metadata": {},
     "output_type": "display_data"
    },
    {
     "name": "stdout",
     "output_type": "stream",
     "text": [
      "\n",
      "[0.38806874 0.14276251 0.25619212 0.21297664]\n",
      "[[    0.          3899.54127059  5653.48224732  7200.74232227]\n",
      " [ 5877.59783142     0.          8471.75235831  5002.54025432]\n",
      " [ 7770.59652476  8610.81007492     0.          6624.96898056]\n",
      " [11155.95040591  6979.69177712  8463.06278675     0.        ]]\n"
     ]
    },
    {
     "ename": "NameError",
     "evalue": "name 'tauM' is not defined",
     "output_type": "error",
     "traceback": [
      "\u001b[0;31m---------------------------------------------------------------------------\u001b[0m",
      "\u001b[0;31mNameError\u001b[0m                                 Traceback (most recent call last)",
      "\u001b[0;32m<ipython-input-4-271a91c17c7e>\u001b[0m in \u001b[0;36m<module>\u001b[0;34m\u001b[0m\n\u001b[1;32m      8\u001b[0m \u001b[0;31m#alternatively, we can compute the weighted-MFPTs from a pre-specified full inter-microstate MFPT matrix\u001b[0m\u001b[0;34m\u001b[0m\u001b[0;34m\u001b[0m\u001b[0;34m\u001b[0m\u001b[0m\n\u001b[1;32m      9\u001b[0m \u001b[0mktn\u001b[0m \u001b[0;34m=\u001b[0m \u001b[0mPyGT\u001b[0m\u001b[0;34m.\u001b[0m\u001b[0mtools\u001b[0m\u001b[0;34m.\u001b[0m\u001b[0mAnalyze_KTN\u001b[0m\u001b[0;34m(\u001b[0m\u001b[0mdata_path\u001b[0m\u001b[0;34m,\u001b[0m \u001b[0mK\u001b[0m\u001b[0;34m=\u001b[0m\u001b[0mQ\u001b[0m\u001b[0;34m.\u001b[0m\u001b[0mtodense\u001b[0m\u001b[0;34m(\u001b[0m\u001b[0;34m)\u001b[0m\u001b[0;34m,\u001b[0m \u001b[0mpi\u001b[0m\u001b[0;34m=\u001b[0m\u001b[0mpi\u001b[0m\u001b[0;34m,\u001b[0m \u001b[0mcommdata\u001b[0m\u001b[0;34m=\u001b[0m\u001b[0;34m'communities.dat'\u001b[0m\u001b[0;34m)\u001b[0m\u001b[0;34m\u001b[0m\u001b[0;34m\u001b[0m\u001b[0m\n\u001b[0;32m---> 10\u001b[0;31m \u001b[0mc_tauM_ktn\u001b[0m \u001b[0;34m=\u001b[0m \u001b[0mktn\u001b[0m\u001b[0;34m.\u001b[0m\u001b[0mget_intercommunity_weighted_MFPTs\u001b[0m\u001b[0;34m(\u001b[0m\u001b[0mtauM\u001b[0m\u001b[0;34m)\u001b[0m\u001b[0;34m\u001b[0m\u001b[0;34m\u001b[0m\u001b[0m\n\u001b[0m\u001b[1;32m     11\u001b[0m \u001b[0mprint\u001b[0m\u001b[0;34m(\u001b[0m\u001b[0mc_tauM_ktn\u001b[0m\u001b[0;34m)\u001b[0m\u001b[0;34m\u001b[0m\u001b[0;34m\u001b[0m\u001b[0m\n",
      "\u001b[0;31mNameError\u001b[0m: name 'tauM' is not defined"
     ]
    }
   ],
   "source": [
    "#exact weighted-MFPT matrix\n",
    "c_pi, c_tauM = PyGT.mfpt.community_MFPT_matrix(communities,B,tau,pi,MS_approx=False,screen=True)\n",
    "#approximate weighted-MFPT matrix\n",
    "c_pi, c_tauM_approx = PyGT.mfpt.community_MFPT_matrix(communities,B,tau,pi,MS_approx=True,screen=True)\n",
    "#stationary distribution of macrostates\n",
    "print(c_pi)\n",
    "print(c_tauM)\n",
    "#alternatively, we can compute the weighted-MFPTs from a pre-specified full inter-microstate MFPT matrix\n",
    "ktn = PyGT.tools.Analyze_KTN(data_path, K=Q.todense(), pi=pi, commdata='communities.dat')\n",
    "c_tauM_ktn = ktn.get_intercommunity_weighted_MFPTs(tauM)\n",
    "print(c_tauM_ktn)"
   ]
  },
  {
   "cell_type": "markdown",
   "metadata": {},
   "source": [
    "## Plot exact, approximate and ratio of MFPT matrices\n",
    "Diagonal entries will be set to zero in application, but here we set diagonal terms to unity to avoid errors when taking ratio."
   ]
  },
  {
   "cell_type": "code",
   "execution_count": null,
   "metadata": {},
   "outputs": [],
   "source": [
    "c_tauM += np.eye(c_pi.size) - np.diag(c_tauM) # i.e. remove diagonal and replace with 1\n",
    "c_tauM_approx += np.eye(c_pi.size) - np.diag(c_tauM_approx) # i.e. remove diagonal and replace with 1\n",
    "\n",
    "fig,axs = plt.subplots(1,3,figsize=(12,4),dpi=120)\n",
    "\n",
    "for i,Mt in enumerate([\n",
    "    [c_tauM,r\"MFPT matrix $\\mathcal{T}$ [Time]\"],\n",
    "    [c_tauM_approx,r\"MFPT matrix $\\mathcal{T}_{\\rm approx}$ [Time]\"],\n",
    "    [c_tauM_approx/c_tauM,r\"Ratio $\\mathcal{T}_{\\rm approx}\\,/\\,\\mathcal{T}$\"]]):\n",
    "    axs[i].set_title(Mt[1],pad=-4.0)\n",
    "    \n",
    "    im = axs[i].matshow(Mt[0])\n",
    "    divider = make_axes_locatable(axs[i])\n",
    "    cax = divider.append_axes(\"right\", size=\"5%\", pad=0.05)\n",
    "    axs[i].set_xticks([])\n",
    "    axs[i].set_yticks([])\n",
    "    plt.colorbar(im, cax=cax)\n",
    "plt.tight_layout()\n"
   ]
  },
  {
   "cell_type": "markdown",
   "metadata": {},
   "source": [
    "## First passage time distribution between $\\mathcal{A}$ and $\\mathcal{B}$"
   ]
  },
  {
   "cell_type": "code",
   "execution_count": 5,
   "metadata": {},
   "outputs": [
    {
     "name": "stdout",
     "output_type": "stream",
     "text": [
      "tau A<-B : mean: 4.269867111336783 , std: 2.145910952844471\n",
      "tau B<-A : mean: 4.604933817537865 , std: 2.1524119768649936\n"
     ]
    },
    {
     "data": {
      "image/png": "[encoded data removed]",
      "text/plain": [
       "<Figure size 1120x420 with 2 Axes>"
      ]
     },
     "metadata": {
      "needs_background": "light"
     },
     "output_type": "display_data"
    }
   ],
   "source": [
    "\n",
    "moments, pt = PyGT.stats.compute_passage_stats(A_vec,B_vec,pi,Q,dopdf=True,rt=np.logspace(-6,2,400))\n",
    "\n",
    "fig,axs = plt.subplots(1,2,figsize=(8,3),dpi=140)\n",
    "\n",
    "axs[0].loglog(pt[:,0],pt[:,1]/moments[0])\n",
    "axs[0].set_title(r\"$\\mathcal{A}\\leftarrow\\mathcal{B}$\")\n",
    "axs[0].set_ylabel(r\"$p(t)$\")\n",
    "axs[0].set_xlabel(r\"$t$\")\n",
    "axs[1].loglog(pt[:,2],pt[:,3]/moments[2])\n",
    "axs[1].set_title(r\"$\\mathcal{B}\\leftarrow\\mathcal{A}$\")\n",
    "axs[1].set_xlabel(r\"$t$\")\n",
    "\n",
    "print(\"tau A<-B : mean:\",tau[0],\", std:\",np.sqrt(tau[1]))\n",
    "print(\"tau B<-A : mean:\",tau[2],\", std:\",np.sqrt(tau[3]))\n",
    "\n"
   ]
  },
  {
   "cell_type": "markdown",
   "metadata": {},
   "source": [
    "# Spectral Regrouping"
   ]
  },
  {
   "cell_type": "code",
   "execution_count": 3,
   "metadata": {},
   "outputs": [],
   "source": [
    "A_rho = (pi * A_vec) / pi[A_vec].sum()\n",
    "B_rho = (pi * B_vec) / pi[B_vec].sum()\n",
    "\n",
    "rQ, rpi, rA_rho = PyGT.spectral.reduce(communities,pi, Q, initial_dist=A_rho)"
   ]
  }
 ],
 "metadata": {
  "kernelspec": {
   "display_name": "Python 3",
   "language": "python",
   "name": "python3"
  },
  "language_info": {
   "codemirror_mode": {
    "name": "ipython",
    "version": 3
   },
   "file_extension": ".py",
   "mimetype": "text/x-python",
   "name": "python",
   "nbconvert_exporter": "python",
   "pygments_lexer": "ipython3",
   "version": "3.7.7"
  }
 },
 "nbformat": 4,
 "nbformat_minor": 4
}
