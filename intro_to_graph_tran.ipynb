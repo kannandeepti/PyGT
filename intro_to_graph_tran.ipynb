{
 "cells": [
  {
   "cell_type": "markdown",
   "metadata": {},
   "source": [
    "# Tutorial with graph_tran\n",
    "\n",
    "We illustrate the core functionality of the ``graph_tran`` package using a simple numerical example. We will go over how to load a Markov chain for analysis, and how to compute mean first passage times between endpoint macrostates of interest using the graph transformation algorithm."
   ]
  },
  {
   "cell_type": "code",
   "execution_count": 3,
   "metadata": {},
   "outputs": [
    {
     "name": "stdout",
     "output_type": "stream",
     "text": [
      "Using tqdm package for pretty progress bars!\n"
     ]
    }
   ],
   "source": [
    "#library code\n",
    "import graph_tran\n",
    "from graph_tran import ktn_io as kio\n",
    "from graph_tran import gt_tools as gt\n",
    "from graph_tran import fpt_stats as fpt\n",
    "from graph_tran import conversion as convert\n",
    "from graph_tran.dimred.ktn_analysis import *\n",
    "#other modules\n",
    "import numpy as np\n",
    "import scipy as sp\n",
    "import scipy.linalg as spla \n",
    "from scipy.sparse.linalg import eigs\n",
    "from scipy.sparse import csr_matrix\n",
    "from scipy.linalg import eig\n",
    "from scipy.linalg import expm\n",
    "from scipy.interpolate import CubicSpline\n",
    "from pathlib import Path\n",
    "import pandas as pd\n",
    "import os\n",
    "import subprocess\n",
    "from matplotlib import pyplot as plt\n",
    "import seaborn as sns\n",
    "sns.set()"
   ]
  },
  {
   "cell_type": "markdown",
   "metadata": {},
   "source": [
    "# Weiss Chain\n",
    "\n",
    "Consider an 11-state unbranched chain with nearest neighbor connections. Weiss (1967) *Adv. Chem. Phys.* demonstrated that the inter-microstate mean first passage times (MFPTs) are exactly solvable via a recursion relation. We implement this recursion relation below, and compare the exact result to numerical methods for computing MFPTs, including graph transformation and linear algebra approaches."
   ]
  },
  {
   "cell_type": "code",
   "execution_count": 4,
   "metadata": {},
   "outputs": [],
   "source": [
    "\"\"\" Define variables needed to calculate rates as a function of temperature\"\"\"\n",
    "path = Path('KTN_data/chain')\n",
    "mindata = np.loadtxt(path/'min.data')\n",
    "tsdata = np.loadtxt(path/'ts.data')\n",
    "\n",
    "nmin = mindata.shape[0]\n",
    "emin = mindata[:,0]\n",
    "fvibmin = mindata[:, 1]\n",
    "hordermin = mindata[:, 2]\n",
    "\n",
    "ets = np.zeros((nmin, nmin))\n",
    "fvibts = np.zeros((nmin, nmin))\n",
    "horderts = np.ones((nmin, nmin))\n",
    "exist = np.zeros((nmin, nmin))\n",
    "\n",
    "for i in range(tsdata.shape[0]):\n",
    "    j1 = int(tsdata[i, 3]) - 1\n",
    "    j2 = int(tsdata[i, 4]) - 1\n",
    "    exist[j1, j2] = 1\n",
    "    exist[j2, j1] = 1\n",
    "    ets[j1, j2] = tsdata[i, 0]\n",
    "    ets[j2, j1] = tsdata[i, 0]\n",
    "    fvibts[j1, j2] = tsdata[i, 1]\n",
    "    fvibts[j2, j1] = tsdata[i, 1]\n",
    "    horderts[j1, j2] = tsdata[i, 2]\n",
    "    horderts[j2, j1] = tsdata[i, 2]\n"
   ]
  },
  {
   "cell_type": "code",
   "execution_count": 5,
   "metadata": {},
   "outputs": [],
   "source": [
    "def Kmat(temp):\n",
    "    \"\"\"Return a rate matrix, (nmin x nmin) for specified temperature.\"\"\"\n",
    "    K = np.zeros((nmin, nmin), dtype=np.longdouble)\n",
    "    for j in range(nmin):\n",
    "        vib = np.exp((fvibmin - fvibts[:,j])/2).astype(np.longdouble)\n",
    "        order = hordermin/(2*np.pi*horderts[:,j])\n",
    "        nrg = np.exp(-(ets[:,j] - emin)/temp).astype(np.longdouble)\n",
    "        K[:, j] = exist[:, j]*vib*order*nrg\n",
    "\n",
    "    K = K.T\n",
    "    for i in range(nmin):\n",
    "        K[i, i] = -np.sum(K[:,i])\n",
    "    #return transpose since ts.data assumes i->j and we want i<-j\n",
    "    return K\n",
    "\n",
    "def peq(temp):\n",
    "    \"\"\"Return equilibrium probabilities for specified temperature.\"\"\"\n",
    "    zvec = np.exp(-fvibmin/2)*np.exp(-emin/temp)/hordermin\n",
    "    zvec = zvec.astype(np.longdouble)\n",
    "    return zvec/np.sum(zvec)\n",
    "\n",
    "#Compute matrix of MFPTs with the analytical Weiss formulae\n",
    "def weiss(temp):\n",
    "    \"\"\"Return the matrix of mean first passage times using the recursive\n",
    "    formulae in Weiss (1967) Adv. Chem. Phys. 13, 1-18.\"\"\"\n",
    "    K = Kmat(temp)\n",
    "    def eta(j):\n",
    "        if j == 0:\n",
    "            return 0\n",
    "        else:\n",
    "            return (K[j, j-1]*eta(j-1) + 1)/K[j-1, j]\n",
    "\n",
    "    def theta(j):\n",
    "        if j==0:\n",
    "            return 1\n",
    "        else:\n",
    "            return theta(j-1)*K[j, j-1]/K[j-1, j]\n",
    "\n",
    "    etavec = [eta(j) for j in range(0, nmin-1)]\n",
    "    thetavec = [theta(j) for j in range(0, nmin-1)]\n",
    "    tmean_oneton = lambda n: (eta(n)/theta(n))*np.sum(thetavec[0:n]) - np.sum(etavec[0:n]) \n",
    "\n",
    "    def xeta(j):\n",
    "        if j == nmin-1:\n",
    "            return 0\n",
    "        else:\n",
    "            return (K[j, j+1]*xeta(j+1) + 1)/K[j+1, j]\n",
    "\n",
    "    def xtheta(j):\n",
    "        if j == nmin-1:\n",
    "            return 1\n",
    "        else:\n",
    "            return xtheta(j+1)*K[j, j+1]/K[j+1, j]\n",
    "\n",
    "    xetavec = [xeta(j) for j in range(1, nmin)]\n",
    "    xthetavec = [xtheta(j) for j in range(1, nmin)]\n",
    "    tmean_nmintoone = lambda n: (xeta(n)/xtheta(n))*np.sum(xthetavec[n:nmin-1]) - np.sum(xetavec[n:nmin-1]) \n",
    "    mfpt = np.zeros((nmin, nmin), dtype=np.longdouble)\n",
    "    for i in range(0, nmin):\n",
    "        for j in range(0, i):\n",
    "            mfpt[i][j] = tmean_oneton(i) - tmean_oneton(j)\n",
    "        for j in range(i+1, nmin):\n",
    "            mfpt[i][j] = tmean_nmintoone(i) - tmean_nmintoone(j)\n",
    "    return mfpt"
   ]
  },
  {
   "cell_type": "markdown",
   "metadata": {},
   "source": [
    "## The one-dimensional energy landscape\n",
    "\n",
    "Let's plot the landscape of the 11-state unbranched chain by interpolating between the discrete stationary points. The minima in the $\\mathcal{A}$ set are colored in red, the minima in the $\\mathcal{B}$ set are colored in blue, and the intervening minima $\\mathcal{I} = (\\mathcal{A}\\cup\\mathcal{B})^\\mathsf{c}$ are colored in black."
   ]
  },
  {
   "cell_type": "code",
   "execution_count": 6,
   "metadata": {},
   "outputs": [
    {
     "data": {
      "text/plain": [
       "Text(0, 0.5, 'Energy')"
      ]
     },
     "execution_count": 6,
     "metadata": {},
     "output_type": "execute_result"
    },
    {
     "data": {
      "image/png": "[encoded data removed]",
      "text/plain": [
       "<Figure size 432x288 with 1 Axes>"
      ]
     },
     "metadata": {
      "needs_background": "light"
     },
     "output_type": "display_data"
    }
   ],
   "source": [
    "#There are 11 potential energy minima and 10 transition states connecting them\n",
    "stat_pts = np.zeros((2*len(emin) - 1, )) \n",
    "stat_pts[::2] = emin\n",
    "stat_pts[1:-1:2] = tsdata[:,0]\n",
    "states = np.arange(1, 11.5, 0.5)\n",
    "xrange = np.linspace(1, 11, 1000)\n",
    "#interpolate between the stationary points\n",
    "cs = CubicSpline(states, stat_pts, bc_type='clamped')\n",
    "fig, ax = plt.subplots()\n",
    "ax.plot(xrange, cs(xrange), 'k')\n",
    "#minima in A set\n",
    "ax.plot(states[[0, 2, 4]], stat_pts[[0, 2, 4]], 'ro')\n",
    "#minima in I set\n",
    "ax.plot(states[6:16:2], stat_pts[6:16:2], 'ko')\n",
    "#minima in B set\n",
    "ax.plot(states[[16, 18, 20]], stat_pts[[16, 18, 20]], 'bo')\n",
    "ax.set_xticks(np.arange(1, 12, 1))\n",
    "ax.set_xlabel('States')\n",
    "ax.set_ylabel('Energy')"
   ]
  },
  {
   "cell_type": "markdown",
   "metadata": {},
   "source": [
    "## Setting up a GT calculation\n",
    "\n",
    "To set up a graph transformation calculation, we need to specify the nodes that belong to the $\\mathcal{A}$ and $\\mathcal{B}$ sets, which are the endpoint macrostates of interest. This can be done using the \"min.A\" and \"min.B\" files, where the first line indicates the number of nodes in the set, and the subsequent lines contain the IDs (1-indexed) of the nodes belonging to that set. These files are read in by the ``graph_tran.ktn_io.load_AB()`` function.\n",
    " \n",
    "The GT algorithm requires a branching probability matrix $\\textbf{B}$ and a vector specifying the inverse waiting times, or escape rates, of all nodes in the Markov chain. Both of these quantities can be computed from the transition rates (continuous-time) or transition probabilities (discrete-time) connecting the nodes in the Markov chain. There are three possible ways to load in a Markov chain for analysis:\n",
    "\n",
    "1. Read in a \"min.data\" and \"ts.data\" file. These files are meant specifically for creating and analyzing Markov chains from the energy landscape; the format of these files are described in the documentation for the ``graph_tran.ktn_io`` package. The ``graph_tran.ktn_io.load_mat()`` function will then calculate Arrhenius transition rates from unimolecular rate theory and return the quantities necessary for a GT calculation.\n"
   ]
  },
  {
   "cell_type": "code",
   "execution_count": 7,
   "metadata": {},
   "outputs": [
    {
     "name": "stdout",
     "output_type": "stream",
     "text": [
      "Equilibrium occupation probabilities:  [0.17803748 0.48395605 0.17803748 0.02409475 0.00886396 0.00119961 0.00326087 0.00886396 0.02409475 0.06549633 0.02409475]\n",
      "States in A:  [ True  True  True False False False False False False False False]\n",
      "States in B:  [False False False False False False False False  True  True  True]\n"
     ]
    },
    {
     "data": {
      "text/html": [
       "<div>\n",
       "<style scoped>\n",
       "    .dataframe tbody tr th:only-of-type {\n",
       "        vertical-align: middle;\n",
       "    }\n",
       "\n",
       "    .dataframe tbody tr th {\n",
       "        vertical-align: top;\n",
       "    }\n",
       "\n",
       "    .dataframe thead th {\n",
       "        text-align: right;\n",
       "    }\n",
       "</style>\n",
       "<table border=\"1\" class=\"dataframe\">\n",
       "  <thead>\n",
       "    <tr style=\"text-align: right;\">\n",
       "      <th></th>\n",
       "      <th>MFPTBA</th>\n",
       "      <th>MFPTAB</th>\n",
       "    </tr>\n",
       "  </thead>\n",
       "  <tbody>\n",
       "    <tr>\n",
       "      <th>0</th>\n",
       "      <td>33524.360033</td>\n",
       "      <td>4889.353724</td>\n",
       "    </tr>\n",
       "  </tbody>\n",
       "</table>\n",
       "</div>"
      ],
      "text/plain": [
       "         MFPTBA       MFPTAB\n",
       "0  33524.360033  4889.353724"
      ]
     },
     "execution_count": 7,
     "metadata": {},
     "output_type": "execute_result"
    }
   ],
   "source": [
    "#Specify the temperature at which to compute the Arrhenius transition rates\n",
    "temp = 1.0\n",
    "beta = 1./temp\n",
    "# B is the sparse branching probability matrix (used in GT)\n",
    "# K is the sparse rate matrix\n",
    "# N is the number of nodes in the largest connected component\n",
    "B, K, D, N, u, s, Emin, index_sel = kio.load_mat(path=Path('KTN_data/chain'), beta=beta)\n",
    "#escape rates of the nodes (used in GT)\n",
    "escape_rates = np.ravel(K.sum(axis=0))\n",
    "#free energies of the nodes, used to compute Boltzmann\n",
    "BF = beta*u-s\n",
    "BF -= BF.min()\n",
    "rho = np.exp(-BF)\n",
    "rho /= rho.sum()\n",
    "print(\"Equilibrium occupation probabilities: \", rho)\n",
    "#load in the A and B sets\n",
    "AS, BS = kio.load_AB(path,index_sel)\n",
    "#these are boolean arrays with elements = True for the nodes that belong to each set\n",
    "print(\"States in A: \", AS)\n",
    "print(\"States in B: \", BS)\n",
    "#compute the MFPTS between A<->B\n",
    "#nodes in the A and B sets initialized to their local equilibrium occupation probabilities\n",
    "df = fpt.compute_rates(AS, BS, B, escape_rates=escape_rates, K=K, BF=BF, fullGT=True, dense=False)\n",
    "df"
   ]
  },
  {
   "cell_type": "markdown",
   "metadata": {},
   "source": [
    "2. If you already have a transition rate matrix $\\textbf{K}$ where $K_{ij}$ are the $i \\leftarrow j$ inter-microstate transition rates and the diagonal elements $K_{ii} = \\sum_{\\gamma} K_{\\gamma i}$ are such that the columns sum to zero, then we can use the ``graph_tran.ktn_io.load_CTMC()`` function to obtain the quantities necessary for a GT calculation.\n"
   ]
  },
  {
   "cell_type": "code",
   "execution_count": 8,
   "metadata": {},
   "outputs": [
    {
     "data": {
      "text/html": [
       "<div>\n",
       "<style scoped>\n",
       "    .dataframe tbody tr th:only-of-type {\n",
       "        vertical-align: middle;\n",
       "    }\n",
       "\n",
       "    .dataframe tbody tr th {\n",
       "        vertical-align: top;\n",
       "    }\n",
       "\n",
       "    .dataframe thead th {\n",
       "        text-align: right;\n",
       "    }\n",
       "</style>\n",
       "<table border=\"1\" class=\"dataframe\">\n",
       "  <thead>\n",
       "    <tr style=\"text-align: right;\">\n",
       "      <th></th>\n",
       "      <th>MFPTBA</th>\n",
       "      <th>MFPTAB</th>\n",
       "    </tr>\n",
       "  </thead>\n",
       "  <tbody>\n",
       "    <tr>\n",
       "      <th>0</th>\n",
       "      <td>33524.360033</td>\n",
       "      <td>4889.353724</td>\n",
       "    </tr>\n",
       "  </tbody>\n",
       "</table>\n",
       "</div>"
      ],
      "text/plain": [
       "         MFPTBA       MFPTAB\n",
       "0  33524.360033  4889.353724"
      ]
     },
     "execution_count": 8,
     "metadata": {},
     "output_type": "execute_result"
    }
   ],
   "source": [
    "B, escape_rates = kio.load_CTMC(Kmat(temp))\n",
    "#same calculation as before, but set dense=True since B is dense\n",
    "df = fpt.compute_rates(AS, BS, B, escape_rates=escape_rates, BF=BF, fullGT=True, dense=True)\n",
    "df"
   ]
  },
  {
   "cell_type": "markdown",
   "metadata": {},
   "source": [
    "3. If you have a discrete-time transition probability matrix $\\textbf{T}(\\tau)$ estimated at a lag time $\\tau$, we can use the ``graph_tran.ktn_io.load_DTMC()`` function.\n"
   ]
  },
  {
   "cell_type": "code",
   "execution_count": 9,
   "metadata": {},
   "outputs": [
    {
     "data": {
      "text/html": [
       "<div>\n",
       "<style scoped>\n",
       "    .dataframe tbody tr th:only-of-type {\n",
       "        vertical-align: middle;\n",
       "    }\n",
       "\n",
       "    .dataframe tbody tr th {\n",
       "        vertical-align: top;\n",
       "    }\n",
       "\n",
       "    .dataframe thead th {\n",
       "        text-align: right;\n",
       "    }\n",
       "</style>\n",
       "<table border=\"1\" class=\"dataframe\">\n",
       "  <thead>\n",
       "    <tr style=\"text-align: right;\">\n",
       "      <th></th>\n",
       "      <th>MFPTBA</th>\n",
       "      <th>MFPTAB</th>\n",
       "    </tr>\n",
       "  </thead>\n",
       "  <tbody>\n",
       "    <tr>\n",
       "      <th>0</th>\n",
       "      <td>33524.378925</td>\n",
       "      <td>4889.354673</td>\n",
       "    </tr>\n",
       "  </tbody>\n",
       "</table>\n",
       "</div>"
      ],
      "text/plain": [
       "         MFPTBA       MFPTAB\n",
       "0  33524.378925  4889.354673"
      ]
     },
     "execution_count": 9,
     "metadata": {},
     "output_type": "execute_result"
    }
   ],
   "source": [
    "#let's create a DTMC corresponding to the CTMC\n",
    "K = Kmat(temp)\n",
    "tau = 0.001 #lag time\n",
    "T = expm(K*tau)\n",
    "B, escape_rates = kio.load_DTMC(T, tau)\n",
    "df = fpt.compute_rates(AS, BS, B, escape_rates=escape_rates, BF=BF, fullGT=True, dense=True)\n",
    "df"
   ]
  },
  {
   "cell_type": "markdown",
   "metadata": {},
   "source": [
    "## Mean First Passage Times from Graph Transformation\n",
    "\n",
    "Now that we understand how to load in a Markov chain for analysis, let's compute the mean first passage times between the $\\mathcal{A}$ and $\\mathcal{B}$ sets, defined as\n",
    "\\begin{equation} \n",
    "\\mathcal{T}_{\\mathcal{A}\\mathcal{B}} = \\frac{1}{\\sum_{b \\in \\mathcal{B}} p_b(0)} \\sum_{b \\in \\mathcal{B}} \\frac{p_b(0) \\tau^\\prime_b}{1-P^\\prime_{bb}},\n",
    "\\end{equation}\n",
    "where $p_b(0)$ is the initial occupation probability of node $b$, and the prime indicates a property of the graph-transformed Markov chain for which nodes of the set $(\\mathcal{A}\\cup b)^\\mathsf{c}$ have been eliminated. The MFPTs in both directions can be obtained from the ``graph_tran.fpt_stats`` module as illustrated below.\n"
   ]
  },
  {
   "cell_type": "code",
   "execution_count": 10,
   "metadata": {},
   "outputs": [
    {
     "data": {
      "text/html": [
       "<div>\n",
       "<style scoped>\n",
       "    .dataframe tbody tr th:only-of-type {\n",
       "        vertical-align: middle;\n",
       "    }\n",
       "\n",
       "    .dataframe tbody tr th {\n",
       "        vertical-align: top;\n",
       "    }\n",
       "\n",
       "    .dataframe thead th {\n",
       "        text-align: right;\n",
       "    }\n",
       "</style>\n",
       "<table border=\"1\" class=\"dataframe\">\n",
       "  <thead>\n",
       "    <tr style=\"text-align: right;\">\n",
       "      <th></th>\n",
       "      <th>MFPTBA</th>\n",
       "      <th>MFPTAB</th>\n",
       "    </tr>\n",
       "  </thead>\n",
       "  <tbody>\n",
       "    <tr>\n",
       "      <th>0</th>\n",
       "      <td>33439.651495</td>\n",
       "      <td>4835.687217</td>\n",
       "    </tr>\n",
       "  </tbody>\n",
       "</table>\n",
       "</div>"
      ],
      "text/plain": [
       "         MFPTBA       MFPTAB\n",
       "0  33439.651495  4835.687217"
      ]
     },
     "execution_count": 10,
     "metadata": {},
     "output_type": "execute_result"
    }
   ],
   "source": [
    "#Let's specify an initial condition where all probability density is in nodes 3 and 9\n",
    "path = Path('KTN_data/chain')\n",
    "initA = np.array([0., 0., 1.0])\n",
    "initB = np.array([1.0, 0., 0.])\n",
    "B, K, D, N, u, s, Emin, index_sel = kio.load_mat(path=path, beta=1.0)\n",
    "escape_rates = np.ravel(K.sum(axis=0))\n",
    "df = fpt.compute_rates(AS, BS, B, escape_rates=escape_rates, initA=initA, initB=initB, fullGT=True)\n",
    "df"
   ]
  },
  {
   "cell_type": "markdown",
   "metadata": {},
   "source": [
    "Notice that these MFPTs are different from the results above, where initA and initB were automatically set\n",
    "to the local Boltzmann distributions.\n",
    "\n",
    "Alternatively, we could have just computed the inter-microstate MFPTs between the third node in the $\\mathcal{A}$ set and the first node in the $\\mathcal{B}$ set using the ``graph_tran.fpt_stats.compute_MFPTAB()`` function."
   ]
  },
  {
   "cell_type": "code",
   "execution_count": 16,
   "metadata": {},
   "outputs": [
    {
     "data": {
      "text/html": [
       "<div>\n",
       "<style scoped>\n",
       "    .dataframe tbody tr th:only-of-type {\n",
       "        vertical-align: middle;\n",
       "    }\n",
       "\n",
       "    .dataframe tbody tr th {\n",
       "        vertical-align: top;\n",
       "    }\n",
       "\n",
       "    .dataframe thead th {\n",
       "        text-align: right;\n",
       "    }\n",
       "</style>\n",
       "<table border=\"1\" class=\"dataframe\">\n",
       "  <thead>\n",
       "    <tr style=\"text-align: right;\">\n",
       "      <th></th>\n",
       "      <th>MFPT(8&lt;-2)</th>\n",
       "      <th>MFPT(2&lt;-8)</th>\n",
       "    </tr>\n",
       "  </thead>\n",
       "  <tbody>\n",
       "    <tr>\n",
       "      <th>0</th>\n",
       "      <td>33439.651495</td>\n",
       "      <td>4835.687217</td>\n",
       "    </tr>\n",
       "  </tbody>\n",
       "</table>\n",
       "</div>"
      ],
      "text/plain": [
       "     MFPT(8<-2)   MFPT(2<-8)\n",
       "0  33439.651495  4835.687217"
      ]
     },
     "execution_count": 16,
     "metadata": {},
     "output_type": "execute_result"
    }
   ],
   "source": [
    "MFPTij, MFPTji = fpt.compute_MFPTAB(2, 8, B, escape_rates=escape_rates)\n",
    "df = pd.DataFrame(columns=['MFPT(8<-2)', 'MFPT(2<-8)'])\n",
    "df['MFPT(2<-8)'] = [MFPTij]\n",
    "df['MFPT(8<-2)'] = [MFPTji]\n",
    "df"
   ]
  },
  {
   "cell_type": "markdown",
   "metadata": {},
   "source": [
    "## Phenomenological Rate Constants with Graph Transformation\n",
    "\n",
    "We can also define phenomenological rate constants based on expressions from discrete path sampling:\n",
    "\n",
    "\\begin{align}\n",
    "      k^{ SS}_{ {\\mathcal{A}\\leftarrow\\mathcal{B}}}\n",
    "      \\equiv\n",
    "      \\sum_{ b\\in  \\mathcal{B}} \\frac{C^{\\mathcal{A}}_b \\widehat{\\pi}_b} {\\tau_{b}},\n",
    "%\\qquad\n",
    "\\quad\n",
    "k^{ NSS}_{ {\\mathcal{A}\\leftarrow\\mathcal{B}}} \\equiv\n",
    "               \\sum_{ b\\in  \\mathcal{B}} \\frac{\n",
    "               C^\\mathcal{A}_b\n",
    "               \\widehat{\\pi}_b\n",
    "               }\n",
    "               {\n",
    "               \\tau^\\mathcal{I}_b\n",
    "               },\n",
    "%\\qquad\n",
    "\\quad\n",
    "k^{F}_{ {\\mathcal{A}\\leftarrow\\mathcal{B}}} \\equiv \\sum_{ b\\in  \\mathcal{B}} \\frac{ \\widehat{\\pi}_b }\n",
    "                                { {\\cal T}_{ \\mathcal{A} b}},\n",
    "      \\label{kGT}\n",
    "%\\qquad\n",
    "\\quad\n",
    "k^{*}_{ {\\mathcal{A}\\leftarrow\\mathcal{B}}}\n",
    "      \\equiv \\sum_{ b\\in  \\mathcal{B}} { \\widehat{\\pi}_b }\n",
    "                                { {\\cal T}_{ \\mathcal{A} b}}.\n",
    "\\end{align}\n",
    "In this hierarchy, $k^{ SS}_{ {\\mathcal{A}\\leftarrow\\mathcal{B}}}$ is the rate when all minima in the intervening region $\\mathcal{I}$\n",
    "are treated in a steady state approximation, and we assume a local equilibrium distribution,  in the source\n",
    "region $\\mathcal{B}$, where $\\widehat{\\pi}_b=\\pi_b/\\Pi_\\mathcal{B}$ and $\\Pi_\\mathcal{B} = \\sum_{b\\in\\mathcal{B}} \\pi_b$.\n",
    "$C^\\mathcal{A}_b$ is the committor probability that a trajectory leaves minimum $b\\in\\mathcal{B}$ and reaches $\\mathcal{A}$ before\n",
    "returning to $\\mathcal{B}$,\n",
    "and $\\tau_b$ is the escape time from $b$ to any directly connected minimum.\n",
    "$k^{ SS}_{ {\\mathcal{A}\\leftarrow\\mathcal{B}}}$ neglects contributions to the first passage time from the $\\mathcal{I}$ region, which\n",
    "can lead to a significant systematic error.\n",
    "$k^{ NSS}_{ {\\mathcal{A}\\leftarrow\\mathcal{B}}}$ results from removing all the $\\mathcal{I}$ minima by graph transformation, with $\\tau^\\mathcal{I}_b$ being the renormalised escape time from $b$ to any member of $\\mathcal{A}\\cup\\mathcal{B}$.\n",
    "$k^{F}_{ {\\mathcal{A}\\leftarrow\\mathcal{B}}}$ is the rate calculated by removing all nodes in the set ($\\mathcal{A}\\cup b)^\\mathsf{c}$, to obtain\n",
    "a renormalised escape time $\\tau^F_b$ from $b$ to $b\\cup\\mathcal{A}$, with branching probabilities $P^{\\rm F}_{\\mathcal{A} b}$ and\n",
    "$P^{\\rm F}_{bb}$, and hence a mean first passage time to $\\mathcal{A}$ of\n",
    "$ {\\cal T}_{ \\mathcal{A} b}=\\tau^{\\rm F}_b/P^{\\rm F}_{\\mathcal{A} b}$.\n",
    "Finally $k^{*}_{ {\\mathcal{A}\\leftarrow\\mathcal{B}}}$ is just the inverse of the mean first passage time $\\mathcal{T}_{\\mathcal{A}\\mathcal{B}}$."
   ]
  },
  {
   "cell_type": "code",
   "execution_count": 17,
   "metadata": {},
   "outputs": [
    {
     "data": {
      "text/html": [
       "<div>\n",
       "<style scoped>\n",
       "    .dataframe tbody tr th:only-of-type {\n",
       "        vertical-align: middle;\n",
       "    }\n",
       "\n",
       "    .dataframe tbody tr th {\n",
       "        vertical-align: top;\n",
       "    }\n",
       "\n",
       "    .dataframe thead th {\n",
       "        text-align: right;\n",
       "    }\n",
       "</style>\n",
       "<table border=\"1\" class=\"dataframe\">\n",
       "  <thead>\n",
       "    <tr style=\"text-align: right;\">\n",
       "      <th></th>\n",
       "      <th>MFPTBA</th>\n",
       "      <th>kSSBA</th>\n",
       "      <th>kNSSBA</th>\n",
       "      <th>kQSDBA</th>\n",
       "      <th>k*BA</th>\n",
       "      <th>kFBA</th>\n",
       "      <th>MFPTAB</th>\n",
       "      <th>kSSAB</th>\n",
       "      <th>kNSSAB</th>\n",
       "      <th>kQSDAB</th>\n",
       "      <th>k*AB</th>\n",
       "      <th>kFAB</th>\n",
       "    </tr>\n",
       "    <tr>\n",
       "      <th>T</th>\n",
       "      <th></th>\n",
       "      <th></th>\n",
       "      <th></th>\n",
       "      <th></th>\n",
       "      <th></th>\n",
       "      <th></th>\n",
       "      <th></th>\n",
       "      <th></th>\n",
       "      <th></th>\n",
       "      <th></th>\n",
       "      <th></th>\n",
       "      <th></th>\n",
       "    </tr>\n",
       "  </thead>\n",
       "  <tbody>\n",
       "    <tr>\n",
       "      <th>100000.000000</th>\n",
       "      <td>3.667319e+02</td>\n",
       "      <td>5.362667e-03</td>\n",
       "      <td>1.532223e-03</td>\n",
       "      <td>2.805771e-03</td>\n",
       "      <td>2.726788e-03</td>\n",
       "      <td>2.733413e-03</td>\n",
       "      <td>3.591250e+02</td>\n",
       "      <td>5.362774e-03</td>\n",
       "      <td>1.532242e-03</td>\n",
       "      <td>2.842759e-03</td>\n",
       "      <td>2.784546e-03</td>\n",
       "      <td>2.788207e-03</td>\n",
       "    </tr>\n",
       "    <tr>\n",
       "      <th>0.899993</th>\n",
       "      <td>6.260415e+04</td>\n",
       "      <td>1.646282e-05</td>\n",
       "      <td>1.436306e-05</td>\n",
       "      <td>1.597408e-05</td>\n",
       "      <td>1.597338e-05</td>\n",
       "      <td>1.597339e-05</td>\n",
       "      <td>7.236868e+03</td>\n",
       "      <td>1.519186e-04</td>\n",
       "      <td>1.045289e-04</td>\n",
       "      <td>1.382759e-04</td>\n",
       "      <td>1.381813e-04</td>\n",
       "      <td>1.381840e-04</td>\n",
       "    </tr>\n",
       "    <tr>\n",
       "      <th>0.449998</th>\n",
       "      <td>5.049073e+07</td>\n",
       "      <td>1.982878e-08</td>\n",
       "      <td>1.957385e-08</td>\n",
       "      <td>1.980562e-08</td>\n",
       "      <td>1.980562e-08</td>\n",
       "      <td>1.980562e-08</td>\n",
       "      <td>5.989059e+05</td>\n",
       "      <td>1.688498e-06</td>\n",
       "      <td>1.506625e-06</td>\n",
       "      <td>1.669720e-06</td>\n",
       "      <td>1.669711e-06</td>\n",
       "      <td>1.669711e-06</td>\n",
       "    </tr>\n",
       "    <tr>\n",
       "      <th>0.299999</th>\n",
       "      <td>5.811251e+10</td>\n",
       "      <td>1.720875e-11</td>\n",
       "      <td>1.718610e-11</td>\n",
       "      <td>1.720800e-11</td>\n",
       "      <td>1.720800e-11</td>\n",
       "      <td>1.720800e-11</td>\n",
       "      <td>7.404429e+07</td>\n",
       "      <td>1.352234e-08</td>\n",
       "      <td>1.304026e-08</td>\n",
       "      <td>1.350543e-08</td>\n",
       "      <td>1.350543e-08</td>\n",
       "      <td>1.350543e-08</td>\n",
       "    </tr>\n",
       "    <tr>\n",
       "      <th>0.225000</th>\n",
       "      <td>7.504874e+13</td>\n",
       "      <td>1.332470e-14</td>\n",
       "      <td>1.332284e-14</td>\n",
       "      <td>1.332467e-14</td>\n",
       "      <td>1.332467e-14</td>\n",
       "      <td>1.332467e-14</td>\n",
       "      <td>1.035147e+10</td>\n",
       "      <td>9.661788e-11</td>\n",
       "      <td>9.548332e-11</td>\n",
       "      <td>9.660463e-11</td>\n",
       "      <td>9.660463e-11</td>\n",
       "      <td>9.660463e-11</td>\n",
       "    </tr>\n",
       "    <tr>\n",
       "      <th>0.180000</th>\n",
       "      <td>1.007897e+17</td>\n",
       "      <td>9.921651e-18</td>\n",
       "      <td>9.921502e-18</td>\n",
       "      <td>9.921650e-18</td>\n",
       "      <td>9.921650e-18</td>\n",
       "      <td>9.921650e-18</td>\n",
       "      <td>1.506345e+12</td>\n",
       "      <td>6.638685e-13</td>\n",
       "      <td>6.613020e-13</td>\n",
       "      <td>6.638586e-13</td>\n",
       "      <td>6.638586e-13</td>\n",
       "      <td>6.638586e-13</td>\n",
       "    </tr>\n",
       "    <tr>\n",
       "      <th>0.150000</th>\n",
       "      <td>1.371434e+20</td>\n",
       "      <td>7.291636e-21</td>\n",
       "      <td>7.291624e-21</td>\n",
       "      <td>7.291636e-21</td>\n",
       "      <td>7.291636e-21</td>\n",
       "      <td>7.291636e-21</td>\n",
       "      <td>2.221159e+14</td>\n",
       "      <td>4.502160e-15</td>\n",
       "      <td>4.496431e-15</td>\n",
       "      <td>4.502153e-15</td>\n",
       "      <td>4.502153e-15</td>\n",
       "      <td>4.502153e-15</td>\n",
       "    </tr>\n",
       "    <tr>\n",
       "      <th>0.128571</th>\n",
       "      <td>1.874204e+23</td>\n",
       "      <td>5.335597e-24</td>\n",
       "      <td>5.335596e-24</td>\n",
       "      <td>5.335597e-24</td>\n",
       "      <td>5.335597e-24</td>\n",
       "      <td>5.335597e-24</td>\n",
       "      <td>3.289449e+16</td>\n",
       "      <td>3.040023e-17</td>\n",
       "      <td>3.038750e-17</td>\n",
       "      <td>3.040023e-17</td>\n",
       "      <td>3.040023e-17</td>\n",
       "      <td>3.040023e-17</td>\n",
       "    </tr>\n",
       "    <tr>\n",
       "      <th>0.112500</th>\n",
       "      <td>2.564957e+26</td>\n",
       "      <td>3.898701e-27</td>\n",
       "      <td>3.898701e-27</td>\n",
       "      <td>3.898701e-27</td>\n",
       "      <td>3.898701e-27</td>\n",
       "      <td>3.898701e-27</td>\n",
       "      <td>4.878522e+18</td>\n",
       "      <td>2.049801e-19</td>\n",
       "      <td>2.049518e-19</td>\n",
       "      <td>2.049801e-19</td>\n",
       "      <td>2.049801e-19</td>\n",
       "      <td>2.049801e-19</td>\n",
       "    </tr>\n",
       "    <tr>\n",
       "      <th>0.100000</th>\n",
       "      <td>3.511945e+29</td>\n",
       "      <td>2.847425e-30</td>\n",
       "      <td>2.847425e-30</td>\n",
       "      <td>2.847425e-30</td>\n",
       "      <td>2.847425e-30</td>\n",
       "      <td>2.847425e-30</td>\n",
       "      <td>7.238658e+20</td>\n",
       "      <td>1.381471e-21</td>\n",
       "      <td>1.381409e-21</td>\n",
       "      <td>1.381471e-21</td>\n",
       "      <td>1.381471e-21</td>\n",
       "      <td>1.381471e-21</td>\n",
       "    </tr>\n",
       "  </tbody>\n",
       "</table>\n",
       "</div>"
      ],
      "text/plain": [
       "                     MFPTBA         kSSBA        kNSSBA        kQSDBA  \\\n",
       "T                                                                       \n",
       "100000.000000  3.667319e+02  5.362667e-03  1.532223e-03  2.805771e-03   \n",
       "0.899993       6.260415e+04  1.646282e-05  1.436306e-05  1.597408e-05   \n",
       "0.449998       5.049073e+07  1.982878e-08  1.957385e-08  1.980562e-08   \n",
       "0.299999       5.811251e+10  1.720875e-11  1.718610e-11  1.720800e-11   \n",
       "0.225000       7.504874e+13  1.332470e-14  1.332284e-14  1.332467e-14   \n",
       "0.180000       1.007897e+17  9.921651e-18  9.921502e-18  9.921650e-18   \n",
       "0.150000       1.371434e+20  7.291636e-21  7.291624e-21  7.291636e-21   \n",
       "0.128571       1.874204e+23  5.335597e-24  5.335596e-24  5.335597e-24   \n",
       "0.112500       2.564957e+26  3.898701e-27  3.898701e-27  3.898701e-27   \n",
       "0.100000       3.511945e+29  2.847425e-30  2.847425e-30  2.847425e-30   \n",
       "\n",
       "                       k*BA          kFBA        MFPTAB         kSSAB  \\\n",
       "T                                                                       \n",
       "100000.000000  2.726788e-03  2.733413e-03  3.591250e+02  5.362774e-03   \n",
       "0.899993       1.597338e-05  1.597339e-05  7.236868e+03  1.519186e-04   \n",
       "0.449998       1.980562e-08  1.980562e-08  5.989059e+05  1.688498e-06   \n",
       "0.299999       1.720800e-11  1.720800e-11  7.404429e+07  1.352234e-08   \n",
       "0.225000       1.332467e-14  1.332467e-14  1.035147e+10  9.661788e-11   \n",
       "0.180000       9.921650e-18  9.921650e-18  1.506345e+12  6.638685e-13   \n",
       "0.150000       7.291636e-21  7.291636e-21  2.221159e+14  4.502160e-15   \n",
       "0.128571       5.335597e-24  5.335597e-24  3.289449e+16  3.040023e-17   \n",
       "0.112500       3.898701e-27  3.898701e-27  4.878522e+18  2.049801e-19   \n",
       "0.100000       2.847425e-30  2.847425e-30  7.238658e+20  1.381471e-21   \n",
       "\n",
       "                     kNSSAB        kQSDAB          k*AB          kFAB  \n",
       "T                                                                      \n",
       "100000.000000  1.532242e-03  2.842759e-03  2.784546e-03  2.788207e-03  \n",
       "0.899993       1.045289e-04  1.382759e-04  1.381813e-04  1.381840e-04  \n",
       "0.449998       1.506625e-06  1.669720e-06  1.669711e-06  1.669711e-06  \n",
       "0.299999       1.304026e-08  1.350543e-08  1.350543e-08  1.350543e-08  \n",
       "0.225000       9.548332e-11  9.660463e-11  9.660463e-11  9.660463e-11  \n",
       "0.180000       6.613020e-13  6.638586e-13  6.638586e-13  6.638586e-13  \n",
       "0.150000       4.496431e-15  4.502153e-15  4.502153e-15  4.502153e-15  \n",
       "0.128571       3.038750e-17  3.040023e-17  3.040023e-17  3.040023e-17  \n",
       "0.112500       2.049518e-19  2.049801e-19  2.049801e-19  2.049801e-19  \n",
       "0.100000       1.381409e-21  1.381471e-21  1.381471e-21  1.381471e-21  "
      ]
     },
     "execution_count": 17,
     "metadata": {},
     "output_type": "execute_result"
    }
   ],
   "source": [
    "#Let's compute rates and MFPTs on the Weiss chain for a range of temperatures\n",
    "invT = np.linspace(0.00001, 10, 10)\n",
    "df = fpt.rates_cycle(1./invT, path, fullGT=True, MFPTonly=False)\n",
    "df = df.set_index('T')\n",
    "df"
   ]
  },
  {
   "cell_type": "code",
   "execution_count": 18,
   "metadata": {},
   "outputs": [
    {
     "data": {
      "text/plain": [
       "<matplotlib.legend.Legend at 0x1a2265df60>"
      ]
     },
     "execution_count": 18,
     "metadata": {},
     "output_type": "execute_result"
    },
    {
     "data": {
      "image/png": "[encoded data removed]",
      "text/plain": [
       "<Figure size 432x288 with 1 Axes>"
      ]
     },
     "metadata": {
      "needs_background": "light"
     },
     "output_type": "display_data"
    }
   ],
   "source": [
    "fig, ax = plt.subplots()\n",
    "ax.plot(invT, df['MFPTAB'], '-o', label='AB')\n",
    "ax.plot(invT, df['MFPTBA'], '-o', label='BA')\n",
    "ax.set_xlabel(r'$1/T$')\n",
    "ax.set_ylabel('MFPT')\n",
    "ax.set_yscale('log')\n",
    "plt.legend()"
   ]
  }
 ],
 "metadata": {
  "kernelspec": {
   "display_name": "Python 3",
   "language": "python",
   "name": "python3"
  },
  "language_info": {
   "codemirror_mode": {
    "name": "ipython",
    "version": 3
   },
   "file_extension": ".py",
   "mimetype": "text/x-python",
   "name": "python",
   "nbconvert_exporter": "python",
   "pygments_lexer": "ipython3",
   "version": "3.6.8"
  }
 },
 "nbformat": 4,
 "nbformat_minor": 4
}
